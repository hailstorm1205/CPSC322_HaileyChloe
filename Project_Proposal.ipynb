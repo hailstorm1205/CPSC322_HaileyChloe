{
 "metadata": {
  "language_info": {
   "codemirror_mode": {
    "name": "ipython",
    "version": 3
   },
   "file_extension": ".py",
   "mimetype": "text/x-python",
   "name": "python",
   "nbconvert_exporter": "python",
   "pygments_lexer": "ipython3",
   "version": 3
  },
  "orig_nbformat": 2
 },
 "nbformat": 4,
 "nbformat_minor": 2,
 "cells": [
  {
   "source": [
    "# CPSC322 Project Proposal\n",
    "\n",
    "\n",
    "## Submitted By: Hailey Mueller and Chloe Crawford\n",
    "\n",
    "\n",
    "https://www.kaggle.com/uciml/red-wine-quality-cortez-et-al-2009"
   ],
   "cell_type": "markdown",
   "metadata": {}
  },
  {
   "source": [
    "# Dataset Description:\n",
    "\n",
    "\n",
    "The dataset we found on Kaggle.com uses various tests on red wine to try and predict the quality. It is in the form of a csv file, with 12 columns and 1600 rows. The attribute we will try to predict is the last column titled \"quality.\""
   ],
   "cell_type": "markdown",
   "metadata": {}
  },
  {
   "source": [
    "# Implementation and Technical Merit\n",
    "\n",
    "\n",
    "As of right now, we don't anticipate many challenges with classifying this dataset. All the data is in the form of numbers, so we don't have to deal with strings. There is also no missing data. We also don't anticipate a problem with the number of attributes, since there are only 12. If anything we will choose a couple of the best attributes that we believe will predict the quality the best."
   ],
   "cell_type": "markdown",
   "metadata": {}
  },
  {
   "source": [
    "# Potential Impact of the Results\n",
    "\n",
    "\n",
    "This dataset stores all the technical characteristics that make one wine better than another, such as it's pH, fixed acidity, and alcohol levels just to name a few. Therefore, these results could potentially be used to help wine makers set the perfect conditions for their wines in order to ensure the best quality is produced. The biggest stakeholders would be wine makers and wine snobs."
   ],
   "cell_type": "markdown",
   "metadata": {}
  }
 ]
}