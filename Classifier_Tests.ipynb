{
 "metadata": {
  "language_info": {
   "codemirror_mode": {
    "name": "ipython",
    "version": 3
   },
   "file_extension": ".py",
   "mimetype": "text/x-python",
   "name": "python",
   "nbconvert_exporter": "python",
   "pygments_lexer": "ipython3",
   "version": "3.8.5"
  },
  "orig_nbformat": 2,
  "kernelspec": {
   "name": "python385jvsc74a57bd098b0a9b7b4eaaa670588a142fd0a9b87eaafe866f1db4228be72b4211d12040f",
   "display_name": "Python 3.8.5 64-bit ('conda': virtualenv)"
  }
 },
 "nbformat": 4,
 "nbformat_minor": 2,
 "cells": [
  {
   "source": [
    "# Classifier Tests Jupyter Notebook"
   ],
   "cell_type": "markdown",
   "metadata": {}
  },
  {
   "cell_type": "code",
   "execution_count": 20,
   "metadata": {},
   "outputs": [],
   "source": [
    "import importlib\n",
    "\n",
    "# Import myutils.py from mysklearn forlder\n",
    "import mysklearn.myutils\n",
    "importlib.reload(mysklearn.myutils)\n",
    "import mysklearn.myutils as myutils\n",
    "\n",
    "# Import mypytable.py from mysklearn folder\n",
    "import mysklearn.mypytable\n",
    "importlib.reload(mysklearn.mypytable)\n",
    "from mysklearn.mypytable import MyPyTable \n",
    "\n",
    "# Import myclassifiers.py from mysklearn folder\n",
    "import mysklearn.myclassifiers\n",
    "importlib.reload(mysklearn.myclassifiers)\n",
    "from mysklearn.myclassifiers import MyRandomForestClassifier, MyDecisionTreeClassifier, MyNaiveBayesClassifier\n",
    "\n",
    "# Import myevaluation.py from mysklearn folder\n",
    "import mysklearn.myevaluation\n",
    "importlib.reload(mysklearn.myevaluation)\n",
    "import mysklearn.myevaluation as myevaluation"
   ]
  },
  {
   "source": [
    "## Random Forest Classifier"
   ],
   "cell_type": "markdown",
   "metadata": {}
  },
  {
   "cell_type": "code",
   "execution_count": 25,
   "metadata": {
    "tags": []
   },
   "outputs": [
    {
     "output_type": "error",
     "ename": "NameError",
     "evalue": "name 'np' is not defined",
     "traceback": [
      "\u001b[0;31m---------------------------------------------------------------------------\u001b[0m",
      "\u001b[0;31mNameError\u001b[0m                                 Traceback (most recent call last)",
      "\u001b[0;32m<ipython-input-25-43a36a2e2b68>\u001b[0m in \u001b[0;36m<module>\u001b[0;34m\u001b[0m\n\u001b[1;32m     21\u001b[0m         \u001b[0mnumWrongPredictions\u001b[0m \u001b[0;34m=\u001b[0m \u001b[0mnumWrongPredictions\u001b[0m\u001b[0;34m+\u001b[0m\u001b[0;36m1\u001b[0m\u001b[0;34m\u001b[0m\u001b[0;34m\u001b[0m\u001b[0m\n\u001b[1;32m     22\u001b[0m \u001b[0;34m\u001b[0m\u001b[0m\n\u001b[0;32m---> 23\u001b[0;31m \u001b[0maccuracy\u001b[0m \u001b[0;34m=\u001b[0m \u001b[0mnp\u001b[0m\u001b[0;34m.\u001b[0m\u001b[0mround\u001b[0m\u001b[0;34m(\u001b[0m\u001b[0;34m(\u001b[0m\u001b[0mnumCorrectPredictions\u001b[0m\u001b[0;34m)\u001b[0m\u001b[0;34m/\u001b[0m\u001b[0;34m(\u001b[0m\u001b[0mnumCorrectPredictions\u001b[0m\u001b[0;34m+\u001b[0m\u001b[0mnumWrongPredictions\u001b[0m\u001b[0;34m)\u001b[0m\u001b[0;34m,\u001b[0m\u001b[0;36m3\u001b[0m\u001b[0;34m)\u001b[0m\u001b[0;34m\u001b[0m\u001b[0;34m\u001b[0m\u001b[0m\n\u001b[0m\u001b[1;32m     24\u001b[0m \u001b[0merror_rate\u001b[0m \u001b[0;34m=\u001b[0m \u001b[0mnp\u001b[0m\u001b[0;34m.\u001b[0m\u001b[0mround\u001b[0m\u001b[0;34m(\u001b[0m\u001b[0;34m(\u001b[0m\u001b[0mnumWrongPredictions\u001b[0m\u001b[0;34m)\u001b[0m\u001b[0;34m/\u001b[0m\u001b[0;34m(\u001b[0m\u001b[0mnumCorrectPredictions\u001b[0m\u001b[0;34m+\u001b[0m\u001b[0mnumWrongPredictions\u001b[0m\u001b[0;34m)\u001b[0m\u001b[0;34m,\u001b[0m\u001b[0;36m3\u001b[0m\u001b[0;34m)\u001b[0m\u001b[0;34m\u001b[0m\u001b[0;34m\u001b[0m\u001b[0m\n\u001b[1;32m     25\u001b[0m \u001b[0;34m\u001b[0m\u001b[0m\n",
      "\u001b[0;31mNameError\u001b[0m: name 'np' is not defined"
     ]
    }
   ],
   "source": [
    "import numpy as np\n",
    "# Get data from csv file\n",
    "table = MyPyTable().load_from_file(\"input_files/winequality-red.csv\")\n",
    "y_col = table.get_column(\"quality\", False)\n",
    "x_cols = table.drop_col(\"quality\")\n",
    "\n",
    "# Split data into train and test cases\n",
    "X_train, X_test, y_train, y_test = myutils.train_test_split(x_cols, y_col, .33)\n",
    "\n",
    "# Use Random Forest to classify\n",
    "testcase = MyRandomForestClassifier()\n",
    "testcase.fit(X_train, y_train, X_test, y_test)\n",
    "y_predicted = testcase.predict(X_test)\n",
    "\n",
    "numCorrectPredictions = 0\n",
    "numWrongPredictions = 0\n",
    "for i in range(len(y_test)):\n",
    "    values = [y_predicted[i], y_test[i]] #predicted/actual\n",
    "    if(values[0]==values[1]):\n",
    "        numCorrectPredictions = numCorrectPredictions+1\n",
    "    else:\n",
    "        numWrongPredictions = numWrongPredictions+1\n",
    "\n",
    "accuracy = np.round((numCorrectPredictions)/(numCorrectPredictions+numWrongPredictions),3)\n",
    "error_rate = np.round((numWrongPredictions)/(numCorrectPredictions+numWrongPredictions),3)\n",
    "\n",
    "print(\"-----------------------------------------------------------\")\n",
    "print(\"Accuracy and Error Rate\")\n",
    "print(\"-----------------------------------------------------------\")\n",
    "print()\n",
    "print(\"Random Forest: accuracy = {}, error rate = {}\".format(accuracy,error_rate))\n",
    "\n"
   ]
  },
  {
   "source": [
    "## Naive Bayes Classifier"
   ],
   "cell_type": "markdown",
   "metadata": {}
  },
  {
   "cell_type": "code",
   "execution_count": 3,
   "metadata": {},
   "outputs": [
    {
     "output_type": "stream",
     "name": "stdout",
     "text": [
      "-----------------------------------------------------------\nAccuracy and Error Rate\n-----------------------------------------------------------\n\nNaive Bayes: accuracy = 0.6, error rate = 0.4\n"
     ]
    }
   ],
   "source": [
    "importlib.reload(mysklearn.mypytable)\n",
    "importlib.reload(mysklearn.myevaluation)\n",
    "import numpy as np\n",
    "\n",
    "# Get data from csv file\n",
    "table = MyPyTable().load_from_file(os.path.join(\"input_files\",\"winequality-red.csv\"))\n",
    "y_col = table.get_column(\"quality\", False)\n",
    "x_cols = table.drop_col(\"quality\")\n",
    "\n",
    "# Use Naive Bayes to classify\n",
    "testcase = MyNaiveBayesClassifier()\n",
    "\n",
    "#Returns x INDEXES\n",
    "X_train, X_test = myevaluation.stratified_kfold_cross_validation(x_cols,y_col,n_splits=10)\n",
    "X_train, X_test, y_train, y_test = myutils.getInstances(X_train, X_test, x_cols,y_col)\n",
    "\n",
    "predicted_values = []\n",
    "for i,fold in enumerate(X_train):\n",
    "    train,test = myutils.normalize_values(X_train[i],X_test[i])\n",
    "    testcase.fit(train,y_train[i])\n",
    "    predicted_values.append(testcase.predict(test))\n",
    "\n",
    "numCorrectPredictions = 0\n",
    "numWrongPredictions = 0\n",
    "for i,fold in enumerate(X_test):\n",
    "    for index in range(len(fold)):\n",
    "        values = [predicted_values[i][index], y_test[i][index]] #predicted/actual\n",
    "        if(values[0]==values[1]):\n",
    "            numCorrectPredictions = numCorrectPredictions+1\n",
    "        else:\n",
    "            numWrongPredictions = numWrongPredictions+1\n",
    "\n",
    "accuracy = np.round((numCorrectPredictions)/(numCorrectPredictions+numWrongPredictions),3)\n",
    "error_rate = np.round((numWrongPredictions)/(numCorrectPredictions+numWrongPredictions),3)\n",
    "\n",
    "print(\"-----------------------------------------------------------\")\n",
    "print(\"Accuracy and Error Rate\")\n",
    "print(\"-----------------------------------------------------------\")\n",
    "print()\n",
    "print(\"Naive Bayes: accuracy = {}, error rate = {}\".format(accuracy,error_rate))"
   ]
  },
  {
   "source": [
    "## Decision Tree Classifier"
   ],
   "cell_type": "markdown",
   "metadata": {}
  },
  {
   "cell_type": "code",
   "execution_count": 4,
   "metadata": {
    "tags": []
   },
   "outputs": [
    {
     "output_type": "stream",
     "name": "stdout",
     "text": [
      "IF alcohol == 1 AND total sulfur dioxide == 1 THEN quality == 6.0\nIF alcohol == 1 AND total sulfur dioxide == 2 THEN quality == 6.0\nIF alcohol == 1 AND total sulfur dioxide == 3 THEN quality == 6.0\nIF alcohol == 1 AND total sulfur dioxide == 4 THEN quality == 5.0\nIF alcohol == 1 AND total sulfur dioxide == 5 THEN quality == 5.0\nIF alcohol == 1 AND total sulfur dioxide == 6 THEN quality == 5.0\nIF alcohol == 2 AND total sulfur dioxide == 1 AND sulphates == 1 THEN quality == 5.0\nIF alcohol == 2 AND total sulfur dioxide == 1 AND sulphates == 2 THEN quality == 5.0\nIF alcohol == 2 AND total sulfur dioxide == 1 AND sulphates == 3 THEN quality == 6.0\nIF alcohol == 2 AND total sulfur dioxide == 1 AND sulphates == 4 THEN quality == 6.0\nIF alcohol == 2 AND total sulfur dioxide == 1 AND sulphates == 5 THEN quality == 5.0\nIF alcohol == 2 AND total sulfur dioxide == 2 THEN quality == 5.0\nIF alcohol == 2 AND total sulfur dioxide == 3 THEN quality == 5.0\nIF alcohol == 2 AND total sulfur dioxide == 4 AND citric acid == 1 THEN quality == 5.0\nIF alcohol == 2 AND total sulfur dioxide == 4 AND citric acid == 2 THEN quality == 5.0\nIF alcohol == 2 AND total sulfur dioxide == 4 AND citric acid == 3 THEN quality == 5.0\nIF alcohol == 2 AND total sulfur dioxide == 4 AND citric acid == 4 THEN quality == 6.0\nIF alcohol == 2 AND total sulfur dioxide == 4 AND citric acid == 5 THEN quality == 4.0\nIF alcohol == 2 AND total sulfur dioxide == 5 THEN quality == 5.0\nIF alcohol == 2 AND total sulfur dioxide == 6 THEN quality == 5.0\nIF alcohol == 3 AND volatile acidity == 1 THEN quality == 6.0\nIF alcohol == 3 AND volatile acidity == 2 AND total sulfur dioxide == 1 THEN quality == 6.0\nIF alcohol == 3 AND volatile acidity == 2 AND total sulfur dioxide == 2 THEN quality == 6.0\nIF alcohol == 3 AND volatile acidity == 2 AND total sulfur dioxide == 3 THEN quality == 6.0\nIF alcohol == 3 AND volatile acidity == 2 AND total sulfur dioxide == 4 THEN quality == 6.0\nIF alcohol == 3 AND volatile acidity == 2 AND total sulfur dioxide == 5 THEN quality == 5.0\nIF alcohol == 3 AND volatile acidity == 2 AND total sulfur dioxide == 6 THEN quality == 5.0\nIF alcohol == 3 AND volatile acidity == 3 THEN quality == 6.0\nIF alcohol == 3 AND volatile acidity == 4 THEN quality == 3.0\nIF alcohol == 3 AND volatile acidity == 5 THEN quality == 5.0\nIF alcohol == 4 AND pH == 1 THEN quality == 5.0\nIF alcohol == 4 AND pH == 2 THEN quality == 7.0\nIF alcohol == 4 AND pH == 3 AND total sulfur dioxide == 1 THEN quality == 6.0\nIF alcohol == 4 AND pH == 3 AND total sulfur dioxide == 2 THEN quality == 7.0\nIF alcohol == 4 AND pH == 3 AND total sulfur dioxide == 3 THEN quality == 6.0\nIF alcohol == 4 AND pH == 3 AND total sulfur dioxide == 4 THEN quality == 6.0\nIF alcohol == 4 AND pH == 3 AND total sulfur dioxide == 5 THEN quality == 7.0\nIF alcohol == 4 AND pH == 3 AND total sulfur dioxide == 6 THEN quality == 6.0\nIF alcohol == 4 AND pH == 4 AND total sulfur dioxide == 1 THEN quality == 7.0\nIF alcohol == 4 AND pH == 4 AND total sulfur dioxide == 2 THEN quality == 6.0\nIF alcohol == 4 AND pH == 4 AND total sulfur dioxide == 3 THEN quality == 6.0\nIF alcohol == 4 AND pH == 4 AND total sulfur dioxide == 4 THEN quality == 6.0\nIF alcohol == 4 AND pH == 4 AND total sulfur dioxide == 5 THEN quality == 6.0\nIF alcohol == 4 AND pH == 4 AND total sulfur dioxide == 6 THEN quality == 5.0\nIF alcohol == 4 AND pH == 5 THEN quality == 6.0\nIF alcohol == 4 AND pH == 6 THEN quality == 5.0\nIF alcohol == 5 AND density == 1 THEN quality == 6.0\nIF alcohol == 5 AND density == 2 AND total sulfur dioxide == 1 THEN quality == 7.0\nIF alcohol == 5 AND density == 2 AND total sulfur dioxide == 2 THEN quality == 6.0\nIF alcohol == 5 AND density == 2 AND total sulfur dioxide == 3 THEN quality == 7.0\nIF alcohol == 5 AND density == 2 AND total sulfur dioxide == 4 THEN quality == 6.0\nIF alcohol == 5 AND density == 2 AND total sulfur dioxide == 5 THEN quality == 6.0\nIF alcohol == 5 AND density == 2 AND total sulfur dioxide == 6 THEN quality == 6.0\nIF alcohol == 5 AND density == 3 THEN quality == 6.0\nIF alcohol == 5 AND density == 4 THEN quality == 6.0\nIF alcohol == 5 AND density == 5 THEN quality == 7.0\nIF alcohol == 5 AND density == 6 THEN quality == 7.0\nIF alcohol == 5 AND density == 7 THEN quality == 6.0\nIF alcohol == 6 THEN quality == 6.0\nIF alcohol == 7 THEN quality == 5.0\nDecision Tree: accuracy = 0.579, error rate = 0.421\n"
     ]
    }
   ],
   "source": [
    "importlib.reload(mysklearn.mypytable)\n",
    "importlib.reload(mysklearn.myevaluation)\n",
    "import numpy as np\n",
    "\n",
    "# Get data from csv file\n",
    "table = MyPyTable().load_from_file(os.path.join(\"input_files\",\"winequality-red.csv\"))\n",
    "y_col = table.get_column(\"quality\", False)\n",
    "x_cols = table.drop_col(\"quality\")\n",
    "\n",
    "# TODO: NEED TO CHANGE X-COLS TO CATEGORICAL ATTRIBUTES\n",
    "\n",
    "# Use Decision Tree to classify\n",
    "testcase = MyDecisionTreeClassifier()\n",
    "\n",
    "#Returns x INDEXES\n",
    "X_train, X_test = myevaluation.stratified_kfold_cross_validation(x_cols,y_col,n_splits=10)\n",
    "X_train, X_test, y_train, y_test = myutils.getInstances(X_train, X_test, x_cols,y_col)\n",
    "\n",
    "predicted_values = []\n",
    "for i,fold in enumerate(X_train):\n",
    "    train = myutils.categorize_dataset(X_train[i])\n",
    "    test = myutils.categorize_dataset(X_test[i])\n",
    "    testcase.fit(train,y_train[i])\n",
    "    predicted_values.append(testcase.predict(test))\n",
    "\n",
    "#testcase.print_decision_rules(table.column_names[:-1],\"quality\")\n",
    "\n",
    "numCorrectPredictions = 0\n",
    "numWrongPredictions = 0\n",
    "for i,fold in enumerate(X_test):\n",
    "    for index in range(len(fold)):\n",
    "        values = [predicted_values[i][index], y_test[i][index]] #predicted/actual\n",
    "        if(values[0]==values[1]):\n",
    "            numCorrectPredictions = numCorrectPredictions+1\n",
    "        else:\n",
    "            numWrongPredictions = numWrongPredictions+1\n",
    "\n",
    "accuracy = np.round((numCorrectPredictions)/(numCorrectPredictions+numWrongPredictions),3)\n",
    "error_rate = np.round((numWrongPredictions)/(numCorrectPredictions+numWrongPredictions),3)\n",
    "\n",
    "print(\"Decision Tree: accuracy = {}, error rate = {}\".format(accuracy,error_rate))"
   ]
  },
  {
   "cell_type": "code",
   "execution_count": null,
   "metadata": {},
   "outputs": [],
   "source": []
  }
 ]
}