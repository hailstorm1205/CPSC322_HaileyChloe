{
 "metadata": {
  "language_info": {
   "codemirror_mode": {
    "name": "ipython",
    "version": 3
   },
   "file_extension": ".py",
   "mimetype": "text/x-python",
   "name": "python",
   "nbconvert_exporter": "python",
   "pygments_lexer": "ipython3",
   "version": "3.8.5"
  },
  "orig_nbformat": 2,
  "kernelspec": {
   "name": "python385jvsc74a57bd098b0a9b7b4eaaa670588a142fd0a9b87eaafe866f1db4228be72b4211d12040f",
   "display_name": "Python 3.8.5 64-bit ('conda': virtualenv)"
  }
 },
 "nbformat": 4,
 "nbformat_minor": 2,
 "cells": [
  {
   "source": [
    "# Classifier Tests Jupyter Notebook"
   ],
   "cell_type": "markdown",
   "metadata": {}
  },
  {
   "cell_type": "code",
   "execution_count": 20,
   "metadata": {},
   "outputs": [],
   "source": [
    "import importlib\n",
    "\n",
    "# Import myutils.py from mysklearn forlder\n",
    "import mysklearn.myutils\n",
    "importlib.reload(mysklearn.myutils)\n",
    "import mysklearn.myutils as myutils\n",
    "\n",
    "# Import mypytable.py from mysklearn folder\n",
    "import mysklearn.mypytable\n",
    "importlib.reload(mysklearn.mypytable)\n",
    "from mysklearn.mypytable import MyPyTable \n",
    "\n",
    "# Import myclassifiers.py from mysklearn folder\n",
    "import mysklearn.myclassifiers\n",
    "importlib.reload(mysklearn.myclassifiers)\n",
    "from mysklearn.myclassifiers import MyRandomForestClassifier, MyDecisionTreeClassifier, MyNaiveBayesClassifier\n",
    "\n",
    "# Import myevaluation.py from mysklearn folder\n",
    "import mysklearn.myevaluation\n",
    "importlib.reload(mysklearn.myevaluation)\n",
    "import mysklearn.myevaluation as myevaluation"
   ]
  },
  {
   "source": [
    "## Random Forest Classifier"
   ],
   "cell_type": "markdown",
   "metadata": {}
  },
  {
   "cell_type": "code",
   "execution_count": 23,
   "metadata": {
    "tags": [
     "outputPrepend"
    ]
   },
   "outputs": [
    {
     "output_type": "stream",
     "name": "stdout",
     "text": [
      "alue', 15.0, ['Leaf', 7.0, 4, 1071]], ['Value', 15.5, ['Leaf', 5.0, 2, 1071]], ['Value', 15.6, ['Leaf', 5.0, 2, 1071]], ['Value', 15.9, ['Leaf', 5.0, 1, 1071]]]\n['Attribute', 'att0', ['Value', 4.6, ['Leaf', 4.0, 2, 1071]], ['Value', 4.7, ['Leaf', 6.0, 2, 1071]], ['Value', 4.9, ['Leaf', 7.0, 2, 1071]], ['Value', 5.0, ['Leaf', 4.0, 1, 1071]], ['Value', 5.1, ['Leaf', 6.0, 2, 1071]], ['Value', 5.2, ['Leaf', 6.0, 4, 1071]], ['Value', 5.3, ['Leaf', 7.0, 3, 1071]], ['Value', 5.4, ['Leaf', 7.0, 2, 1071]], ['Value', 5.6, ['Leaf', 5.0, 2, 1071]], ['Value', 5.8, ['Leaf', 5.0, 1, 1071]], ['Value', 5.9, ['Leaf', 6.0, 3, 1071]], ['Value', 6.0, ['Leaf', 5.0, 2, 1071]], ['Value', 6.1, ['Leaf', 6.0, 6, 1071]], ['Value', 6.2, ['Leaf', 6.0, 10, 1071]], ['Value', 6.3, ['Leaf', 5.0, 3, 1071]], ['Value', 6.4, ['Leaf', 6.0, 10, 1071]], ['Value', 6.5, ['Leaf', 6.0, 2, 1071]], ['Value', 6.6, ['Leaf', 5.0, 12, 1071]], ['Value', 6.7, ['Leaf', 5.0, 15, 1071]], ['Value', 6.8, ['Leaf', 6.0, 17, 1071]], ['Value', 6.9, ['Leaf', 6.0, 34, 1071]], ['Value', 7.0, ['Leaf', 6.0, 24, 1071]], ['Value', 7.1, ['Leaf', 5.0, 29, 1071]], ['Value', 7.2, ['Leaf', 5.0, 32, 1071]], ['Value', 7.3, ['Leaf', 5.0, 26, 1071]], ['Value', 7.4, ['Leaf', 5.0, 36, 1071]], ['Value', 7.5, ['Leaf', 5.0, 33, 1071]], ['Value', 7.6, ['Leaf', 5.0, 25, 1071]], ['Value', 7.7, ['Leaf', 6.0, 40, 1071]], ['Value', 7.8, ['Leaf', 5.0, 34, 1071]], ['Value', 7.9, ['Leaf', 6.0, 19, 1071]], ['Value', 8.0, ['Leaf', 6.0, 31, 1071]], ['Value', 8.1, ['Leaf', 5.0, 17, 1071]], ['Value', 8.2, ['Leaf', 5.0, 23, 1071]], ['Value', 8.3, ['Leaf', 6.0, 35, 1071]], ['Value', 8.4, ['Leaf', 5.0, 18, 1071]], ['Value', 8.5, ['Leaf', 6.0, 9, 1071]], ['Value', 8.6, ['Leaf', 5.0, 24, 1071]], ['Value', 8.7, ['Leaf', 7.0, 13, 1071]], ['Value', 8.8, ['Leaf', 5.0, 36, 1071]], ['Value', 8.9, ['Leaf', 5.0, 31, 1071]], ['Value', 9.0, ['Leaf', 5.0, 15, 1071]], ['Value', 9.1, ['Leaf', 6.0, 13, 1071]], ['Value', 9.2, ['Leaf', 6.0, 15, 1071]], ['Value', 9.3, ['Leaf', 5.0, 20, 1071]], ['Value', 9.4, ['Leaf', 6.0, 19, 1071]], ['Value', 9.5, ['Leaf', 5.0, 14, 1071]], ['Value', 9.6, ['Leaf', 6.0, 15, 1071]], ['Value', 9.7, ['Leaf', 6.0, 7, 1071]], ['Value', 9.8, ['Leaf', 5.0, 9, 1071]], ['Value', 9.9, ['Leaf', 5.0, 22, 1071]], ['Value', 10.0, ['Leaf', 6.0, 17, 1071]], ['Value', 10.1, ['Leaf', 7.0, 13, 1071]], ['Value', 10.2, ['Leaf', 7.0, 8, 1071]], ['Value', 10.3, ['Leaf', 6.0, 3, 1071]], ['Value', 10.4, ['Leaf', 6.0, 38, 1071]], ['Value', 10.5, ['Leaf', 7.0, 12, 1071]], ['Value', 10.6, ['Leaf', 6.0, 11, 1071]], ['Value', 10.7, ['Leaf', 5.0, 7, 1071]], ['Value', 10.8, ['Leaf', 6.0, 4, 1071]], ['Value', 10.9, ['Leaf', 6.0, 5, 1071]], ['Value', 11.0, ['Leaf', 5.0, 5, 1071]], ['Value', 11.1, ['Leaf', 7.0, 7, 1071]], ['Value', 11.2, ['Leaf', 6.0, 3, 1071]], ['Value', 11.3, ['Leaf', 6.0, 5, 1071]], ['Value', 11.4, ['Leaf', 6.0, 5, 1071]], ['Value', 11.5, ['Leaf', 6.0, 18, 1071]], ['Value', 11.6, ['Leaf', 6.0, 10, 1071]], ['Value', 11.7, ['Leaf', 7.0, 2, 1071]], ['Value', 11.9, ['Leaf', 6.0, 14, 1071]], ['Value', 12.0, ['Leaf', 7.0, 8, 1071]], ['Value', 12.2, ['Leaf', 6.0, 7, 1071]], ['Value', 12.3, ['Leaf', 5.0, 6, 1071]], ['Value', 12.4, ['Leaf', 5.0, 2, 1071]], ['Value', 12.5, ['Leaf', 6.0, 3, 1071]], ['Value', 12.6, ['Leaf', 8.0, 1, 1071]], ['Value', 12.7, ['Leaf', 5.0, 1, 1071]], ['Value', 12.8, ['Leaf', 7.0, 10, 1071]], ['Value', 12.9, ['Leaf', 7.0, 3, 1071]], ['Value', 13.0, ['Leaf', 6.0, 5, 1071]], ['Value', 13.2, ['Leaf', 6.0, 4, 1071]], ['Value', 13.3, ['Leaf', 6.0, 7, 1071]], ['Value', 13.5, ['Leaf', 5.0, 1, 1071]], ['Value', 13.7, ['Leaf', 6.0, 2, 1071]], ['Value', 14.0, ['Leaf', 6.0, 1, 1071]], ['Value', 15.0, ['Leaf', 7.0, 1, 1071]], ['Value', 15.6, ['Leaf', 5.0, 3, 1071]]]\n['Attribute', 'att0', ['Value', 4.6, ['Leaf', 4.0, 1, 1071]], ['Value', 4.7, ['Leaf', 6.0, 2, 1071]], ['Value', 4.9, ['Leaf', 7.0, 1, 1071]], ['Value', 5.2, ['Leaf', 6.0, 5, 1071]], ['Value', 5.3, ['Leaf', 7.0, 5, 1071]], ['Value', 5.4, ['Leaf', 7.0, 2, 1071]], ['Value', 5.6, ['Leaf', 5.0, 7, 1071]], ['Value', 5.7, ['Leaf', 4.0, 1, 1071]], ['Value', 5.8, ['Leaf', 5.0, 4, 1071]], ['Value', 5.9, ['Leaf', 6.0, 1, 1071]], ['Value', 6.0, ['Leaf', 5.0, 1, 1071]], ['Value', 6.1, ['Leaf', 5.0, 3, 1071]], ['Value', 6.2, ['Leaf', 5.0, 3, 1071]], ['Value', 6.3, ['Leaf', 6.0, 5, 1071]], ['Value', 6.4, ['Leaf', 5.0, 15, 1071]], ['Value', 6.5, ['Leaf', 5.0, 8, 1071]], ['Value', 6.6, ['Leaf', 5.0, 21, 1071]], ['Value', 6.7, ['Leaf', 5.0, 17, 1071]], ['Value', 6.8, ['Leaf', 6.0, 35, 1071]], ['Value', 6.9, ['Leaf', 6.0, 17, 1071]], ['Value', 7.0, ['Leaf', 6.0, 14, 1071]], ['Value', 7.1, ['Leaf', 5.0, 31, 1071]], ['Value', 7.2, ['Leaf', 5.0, 39, 1071]], ['Value', 7.3, ['Leaf', 5.0, 28, 1071]], ['Value', 7.4, ['Leaf', 5.0, 21, 1071]], ['Value', 7.5, ['Leaf', 5.0, 26, 1071]], ['Value', 7.6, ['Leaf', 5.0, 24, 1071]], ['Value', 7.7, ['Leaf', 5.0, 45, 1071]], ['Value', 7.8, ['Leaf', 5.0, 33, 1071]], ['Value', 7.9, ['Leaf', 5.0, 18, 1071]], ['Value', 8.0, ['Leaf', 6.0, 29, 1071]], ['Value', 8.1, ['Leaf', 5.0, 22, 1071]], ['Value', 8.2, ['Leaf', 5.0, 24, 1071]], ['Value', 8.3, ['Leaf', 5.0, 32, 1071]], ['Value', 8.4, ['Leaf', 5.0, 16, 1071]], ['Value', 8.5, ['Leaf', 5.0, 14, 1071]], ['Value', 8.6, ['Leaf', 5.0, 23, 1071]], ['Value', 8.7, ['Leaf', 5.0, 23, 1071]], ['Value', 8.8, ['Leaf', 5.0, 34, 1071]], ['Value', 8.9, ['Leaf', 5.0, 29, 1071]], ['Value', 9.0, ['Leaf', 5.0, 17, 1071]], ['Value', 9.1, ['Leaf', 6.0, 26, 1071]], ['Value', 9.2, ['Leaf', 5.0, 11, 1071]], ['Value', 9.3, ['Leaf', 5.0, 12, 1071]], ['Value', 9.4, ['Leaf', 7.0, 11, 1071]], ['Value', 9.5, ['Leaf', 5.0, 8, 1071]], ['Value', 9.6, ['Leaf', 5.0, 12, 1071]], ['Value', 9.7, ['Leaf', 6.0, 6, 1071]], ['Value', 9.8, ['Leaf', 5.0, 9, 1071]], ['Value', 9.9, ['Leaf', 5.0, 22, 1071]], ['Value', 10.0, ['Leaf', 6.0, 16, 1071]], ['Value', 10.1, ['Leaf', 7.0, 5, 1071]], ['Value', 10.2, ['Leaf', 7.0, 14, 1071]], ['Value', 10.3, ['Leaf', 6.0, 13, 1071]], ['Value', 10.4, ['Leaf', 7.0, 16, 1071]], ['Value', 10.5, ['Leaf', 7.0, 8, 1071]], ['Value', 10.6, ['Leaf', 5.0, 16, 1071]], ['Value', 10.7, ['Leaf', 8.0, 10, 1071]], ['Value', 10.8, ['Leaf', 5.0, 11, 1071]], ['Value', 10.9, ['Leaf', 6.0, 10, 1071]], ['Value', 11.0, ['Leaf', 5.0, 3, 1071]], ['Value', 11.1, ['Leaf', 6.0, 9, 1071]], ['Value', 11.2, ['Leaf', 5.0, 5, 1071]], ['Value', 11.3, ['Leaf', 6.0, 7, 1071]], ['Value', 11.4, ['Leaf', 6.0, 1, 1071]], ['Value', 11.5, ['Leaf', 6.0, 14, 1071]], ['Value', 11.6, ['Leaf', 4.0, 10, 1071]], ['Value', 11.7, ['Leaf', 7.0, 7, 1071]], ['Value', 11.8, ['Leaf', 7.0, 3, 1071]], ['Value', 11.9, ['Leaf', 7.0, 11, 1071]], ['Value', 12.0, ['Leaf', 6.0, 8, 1071]], ['Value', 12.1, ['Leaf', 5.0, 1, 1071]], ['Value', 12.2, ['Leaf', 5.0, 5, 1071]], ['Value', 12.3, ['Leaf', 5.0, 9, 1071]], ['Value', 12.4, ['Leaf', 6.0, 3, 1071]], ['Value', 12.5, ['Leaf', 5.0, 7, 1071]], ['Value', 12.6, ['Leaf', 6.0, 1, 1071]], ['Value', 12.7, ['Leaf', 5.0, 6, 1071]], ['Value', 12.8, ['Leaf', 7.0, 6, 1071]], ['Value', 12.9, ['Leaf', 7.0, 1, 1071]], ['Value', 13.0, ['Leaf', 6.0, 1, 1071]], ['Value', 13.2, ['Leaf', 5.0, 1, 1071]], ['Value', 13.3, ['Leaf', 7.0, 1, 1071]], ['Value', 13.5, ['Leaf', 5.0, 3, 1071]], ['Value', 13.7, ['Leaf', 6.0, 7, 1071]], ['Value', 14.0, ['Leaf', 6.0, 2, 1071]], ['Value', 15.0, ['Leaf', 7.0, 2, 1071]], ['Value', 15.5, ['Leaf', 5.0, 2, 1071]], ['Value', 15.6, ['Leaf', 7.0, 2, 1071]], ['Value', 15.9, ['Leaf', 5.0, 1, 1071]]]\n['Attribute', 'att0', ['Value', 4.6, ['Leaf', 4.0, 2, 1071]], ['Value', 5.0, ['Leaf', 4.0, 3, 1071]], ['Value', 5.1, ['Leaf', 7.0, 1, 1071]], ['Value', 5.2, ['Leaf', 6.0, 3, 1071]], ['Value', 5.3, ['Leaf', 7.0, 4, 1071]], ['Value', 5.4, ['Leaf', 7.0, 2, 1071]], ['Value', 5.6, ['Leaf', 5.0, 11, 1071]], ['Value', 5.7, ['Leaf', 4.0, 2, 1071]], ['Value', 5.8, ['Leaf', 6.0, 2, 1071]], ['Value', 5.9, ['Leaf', 6.0, 1, 1071]], ['Value', 6.0, ['Leaf', 5.0, 1, 1071]], ['Value', 6.1, ['Leaf', 6.0, 2, 1071]], ['Value', 6.2, ['Leaf', 5.0, 5, 1071]], ['Value', 6.3, ['Leaf', 5.0, 9, 1071]], ['Value', 6.4, ['Leaf', 6.0, 9, 1071]], ['Value', 6.5, ['Leaf', 5.0, 5, 1071]], ['Value', 6.6, ['Leaf', 5.0, 24, 1071]], ['Value', 6.7, ['Leaf', 6.0, 7, 1071]], ['Value', 6.8, ['Leaf', 6.0, 28, 1071]], ['Value', 6.9, ['Leaf', 6.0, 20, 1071]], ['Value', 7.0, ['Leaf', 5.0, 21, 1071]], ['Value', 7.1, ['Leaf', 5.0, 38, 1071]], ['Value', 7.2, ['Leaf', 5.0, 32, 1071]], ['Value', 7.3, ['Leaf', 5.0, 19, 1071]], ['Value', 7.4, ['Leaf', 5.0, 37, 1071]], ['Value', 7.5, ['Leaf', 5.0, 21, 1071]], ['Value', 7.6, ['Leaf', 5.0, 33, 1071]], ['Value', 7.7, ['Leaf', 5.0, 42, 1071]], ['Value', 7.8, ['Leaf', 5.0, 44, 1071]], ['Value', 7.9, ['Leaf', 5.0, 26, 1071]], ['Value', 8.0, ['Leaf', 5.0, 19, 1071]], ['Value', 8.1, ['Leaf', 5.0, 25, 1071]], ['Value', 8.2, ['Leaf', 5.0, 25, 1071]], ['Value', 8.3, ['Leaf', 5.0, 35, 1071]], ['Value', 8.4, ['Leaf', 5.0, 21, 1071]], ['Value', 8.5, ['Leaf', 6.0, 12, 1071]], ['Value', 8.6, ['Leaf', 5.0, 12, 1071]], ['Value', 8.7, ['Leaf', 6.0, 24, 1071]], ['Value', 8.8, ['Leaf', 5.0, 17, 1071]], ['Value', 8.9, ['Leaf', 6.0, 24, 1071]], ['Value', 9.0, ['Leaf', 5.0, 21, 1071]], ['Value', 9.1, ['Leaf', 6.0, 13, 1071]], ['Value', 9.2, ['Leaf', 5.0, 8, 1071]], ['Value', 9.3, ['Leaf', 5.0, 21, 1071]], ['Value', 9.4, ['Leaf', 5.0, 17, 1071]], ['Value', 9.5, ['Leaf', 6.0, 13, 1071]], ['Value', 9.6, ['Leaf', 5.0, 14, 1071]], ['Value', 9.7, ['Leaf', 5.0, 4, 1071]], ['Value', 9.8, ['Leaf', 7.0, 13, 1071]], ['Value', 9.9, ['Leaf', 5.0, 21, 1071]], ['Value', 10.0, ['Leaf', 6.0, 25, 1071]], ['Value', 10.1, ['Leaf', 7.0, 9, 1071]], ['Value', 10.2, ['Leaf', 5.0, 14, 1071]], ['Value', 10.3, ['Leaf', 6.0, 11, 1071]], ['Value', 10.4, ['Leaf', 6.0, 18, 1071]], ['Value', 10.5, ['Leaf', 7.0, 12, 1071]], ['Value', 10.6, ['Leaf', 5.0, 13, 1071]], ['Value', 10.7, ['Leaf', 5.0, 10, 1071]], ['Value', 10.8, ['Leaf', 5.0, 10, 1071]], ['Value', 10.9, ['Leaf', 6.0, 6, 1071]], ['Value', 11.0, ['Leaf', 5.0, 3, 1071]], ['Value', 11.1, ['Leaf', 7.0, 11, 1071]], ['Value', 11.2, ['Leaf', 6.0, 7, 1071]], ['Value', 11.3, ['Leaf', 6.0, 3, 1071]], ['Value', 11.4, ['Leaf', 6.0, 7, 1071]], ['Value', 11.5, ['Leaf', 6.0, 15, 1071]], ['Value', 11.6, ['Leaf', 7.0, 3, 1071]], ['Value', 11.7, ['Leaf', 5.0, 2, 1071]], ['Value', 11.8, ['Leaf', 7.0, 2, 1071]], ['Value', 11.9, ['Leaf', 6.0, 10, 1071]], ['Value', 12.0, ['Leaf', 7.0, 9, 1071]], ['Value', 12.1, ['Leaf', 5.0, 1, 1071]], ['Value', 12.2, ['Leaf', 5.0, 1, 1071]], ['Value', 12.3, ['Leaf', 5.0, 3, 1071]], ['Value', 12.4, ['Leaf', 6.0, 4, 1071]], ['Value', 12.5, ['Leaf', 6.0, 10, 1071]], ['Value', 12.6, ['Leaf', 8.0, 4, 1071]], ['Value', 12.7, ['Leaf', 5.0, 4, 1071]], ['Value', 12.8, ['Leaf', 7.0, 8, 1071]], ['Value', 12.9, ['Leaf', 6.0, 3, 1071]], ['Value', 13.0, ['Leaf', 6.0, 5, 1071]], ['Value', 13.3, ['Leaf', 6.0, 4, 1071]], ['Value', 13.4, ['Leaf', 6.0, 1, 1071]], ['Value', 13.5, ['Leaf', 5.0, 1, 1071]], ['Value', 13.7, ['Leaf', 6.0, 1, 1071]], ['Value', 13.8, ['Leaf', 6.0, 1, 1071]], ['Value', 14.3, ['Leaf', 6.0, 1, 1071]], ['Value', 15.0, ['Leaf', 7.0, 1, 1071]], ['Value', 15.5, ['Leaf', 5.0, 3, 1071]], ['Value', 15.6, ['Leaf', 5.0, 2, 1071]]]\n['Attribute', 'att0', ['Value', 4.7, ['Leaf', 6.0, 3, 1071]], ['Value', 5.0, ['Leaf', 5.0, 1, 1071]], ['Value', 5.1, ['Leaf', 7.0, 2, 1071]], ['Value', 5.2, ['Leaf', 6.0, 1, 1071]], ['Value', 5.3, ['Leaf', 7.0, 2, 1071]], ['Value', 5.4, ['Leaf', 7.0, 3, 1071]], ['Value', 5.6, ['Leaf', 5.0, 15, 1071]], ['Value', 5.7, ['Leaf', 4.0, 1, 1071]], ['Value', 5.8, ['Leaf', 5.0, 2, 1071]], ['Value', 5.9, ['Leaf', 6.0, 2, 1071]], ['Value', 6.0, ['Leaf', 5.0, 1, 1071]], ['Value', 6.1, ['Leaf', 6.0, 4, 1071]], ['Value', 6.2, ['Leaf', 5.0, 10, 1071]], ['Value', 6.3, ['Leaf', 6.0, 3, 1071]], ['Value', 6.4, ['Leaf', 5.0, 15, 1071]], ['Value', 6.5, ['Leaf', 5.0, 1, 1071]], ['Value', 6.6, ['Leaf', 5.0, 17, 1071]], ['Value', 6.7, ['Leaf', 5.0, 16, 1071]], ['Value', 6.8, ['Leaf', 6.0, 19, 1071]], ['Value', 6.9, ['Leaf', 6.0, 22, 1071]], ['Value', 7.0, ['Leaf', 6.0, 16, 1071]], ['Value', 7.1, ['Leaf', 5.0, 35, 1071]], ['Value', 7.2, ['Leaf', 6.0, 31, 1071]], ['Value', 7.3, ['Leaf', 5.0, 27, 1071]], ['Value', 7.4, ['Leaf', 6.0, 22, 1071]], ['Value', 7.5, ['Leaf', 5.0, 29, 1071]], ['Value', 7.6, ['Leaf', 6.0, 31, 1071]], ['Value', 7.7, ['Leaf', 5.0, 42, 1071]], ['Value', 7.8, ['Leaf', 5.0, 31, 1071]], ['Value', 7.9, ['Leaf', 6.0, 31, 1071]], ['Value', 8.0, ['Leaf', 6.0, 24, 1071]], ['Value', 8.1, ['Leaf', 5.0, 16, 1071]], ['Value', 8.2, ['Leaf', 5.0, 32, 1071]], ['Value', 8.3, ['Leaf', 6.0, 30, 1071]], ['Value', 8.4, ['Leaf', 5.0, 22, 1071]], ['Value', 8.5, ['Leaf', 5.0, 11, 1071]], ['Value', 8.6, ['Leaf', 6.0, 24, 1071]], ['Value', 8.7, ['Leaf', 6.0, 14, 1071]], ['Value', 8.8, ['Leaf', 5.0, 30, 1071]], ['Value', 8.9, ['Leaf', 5.0, 31, 1071]], ['Value', 9.0, ['Leaf', 5.0, 16, 1071]], ['Value', 9.1, ['Leaf', 6.0, 26, 1071]], ['Value', 9.2, ['Leaf', 5.0, 10, 1071]], ['Value', 9.3, ['Leaf', 5.0, 19, 1071]], ['Value', 9.4, ['Leaf', 6.0, 16, 1071]], ['Value', 9.5, ['Leaf', 6.0, 12, 1071]], ['Value', 9.6, ['Leaf', 5.0, 20, 1071]], ['Value', 9.7, ['Leaf', 6.0, 7, 1071]], ['Value', 9.8, ['Leaf', 5.0, 11, 1071]], ['Value', 9.9, ['Leaf', 5.0, 13, 1071]], ['Value', 10.0, ['Leaf', 6.0, 16, 1071]], ['Value', 10.1, ['Leaf', 7.0, 5, 1071]], ['Value', 10.2, ['Leaf', 6.0, 12, 1071]], ['Value', 10.3, ['Leaf', 6.0, 8, 1071]], ['Value', 10.4, ['Leaf', 6.0, 18, 1071]], ['Value', 10.5, ['Leaf', 7.0, 13, 1071]], ['Value', 10.6, ['Leaf', 6.0, 17, 1071]], ['Value', 10.7, ['Leaf', 8.0, 4, 1071]], ['Value', 10.8, ['Leaf', 6.0, 9, 1071]], ['Value', 10.9, ['Leaf', 6.0, 7, 1071]], ['Value', 11.0, ['Leaf', 5.0, 2, 1071]], ['Value', 11.1, ['Leaf', 7.0, 12, 1071]], ['Value', 11.2, ['Leaf', 6.0, 1, 1071]], ['Value', 11.3, ['Leaf', 8.0, 2, 1071]], ['Value', 11.4, ['Leaf', 6.0, 5, 1071]], ['Value', 11.5, ['Leaf', 6.0, 13, 1071]], ['Value', 11.6, ['Leaf', 5.0, 9, 1071]], ['Value', 11.7, ['Leaf', 5.0, 5, 1071]], ['Value', 11.8, ['Leaf', 7.0, 5, 1071]], ['Value', 11.9, ['Leaf', 6.0, 5, 1071]], ['Value', 12.0, ['Leaf', 7.0, 8, 1071]], ['Value', 12.1, ['Leaf', 5.0, 3, 1071]], ['Value', 12.2, ['Leaf', 6.0, 5, 1071]], ['Value', 12.3, ['Leaf', 5.0, 4, 1071]], ['Value', 12.4, ['Leaf', 6.0, 2, 1071]], ['Value', 12.5, ['Leaf', 6.0, 15, 1071]], ['Value', 12.6, ['Leaf', 6.0, 3, 1071]], ['Value', 12.7, ['Leaf', 5.0, 5, 1071]], ['Value', 12.8, ['Leaf', 7.0, 5, 1071]], ['Value', 12.9, ['Leaf', 7.0, 3, 1071]], ['Value', 13.0, ['Leaf', 6.0, 2, 1071]], ['Value', 13.2, ['Leaf', 5.0, 7, 1071]], ['Value', 13.3, ['Leaf', 5.0, 6, 1071]], ['Value', 13.4, ['Leaf', 6.0, 1, 1071]], ['Value', 13.5, ['Leaf', 5.0, 1, 1071]], ['Value', 13.7, ['Leaf', 6.0, 5, 1071]], ['Value', 13.8, ['Leaf', 6.0, 1, 1071]], ['Value', 14.0, ['Leaf', 6.0, 2, 1071]], ['Value', 14.3, ['Leaf', 6.0, 1, 1071]], ['Value', 15.0, ['Leaf', 7.0, 1, 1071]], ['Value', 15.6, ['Leaf', 7.0, 3, 1071]], ['Value', 15.9, ['Leaf', 5.0, 1, 1071]]]\n['Attribute', 'att1', ['Value', 0.12, ['Leaf', 7.0, 3, 1071]], ['Value', 0.18, ['Leaf', 6.0, 5, 1071]], ['Value', 0.21, ['Leaf', 6.0, 7, 1071]], ['Value', 0.22, ['Leaf', 6.0, 8, 1071]], ['Value', 0.23, ['Leaf', 5.0, 1, 1071]], ['Value', 0.24, ['Leaf', 7.0, 10, 1071]], ['Value', 0.25, ['Leaf', 6.0, 9, 1071]], ['Value', 0.26, ['Leaf', 6.0, 15, 1071]], ['Value', 0.27, ['Leaf', 6.0, 11, 1071]], ['Value', 0.28, ['Leaf', 7.0, 19, 1071]], ['Value', 0.29, ['Leaf', 7.0, 13, 1071]], ['Value', 0.295, ['Leaf', 6.0, 1, 1071]], ['Value', 0.3, ['Leaf', 6.0, 10, 1071]], ['Value', 0.305, ['Leaf', 6.0, 2, 1071]], ['Value', 0.31, ['Leaf', 7.0, 27, 1071]], ['Value', 0.315, ['Leaf', 6.0, 2, 1071]], ['Value', 0.32, ['Leaf', 6.0, 10, 1071]], ['Value', 0.33, ['Leaf', 6.0, 11, 1071]], ['Value', 0.34, ['Leaf', 6.0, 15, 1071]], ['Value', 0.35, ['Leaf', 5.0, 13, 1071]], ['Value', 0.36, ['Leaf', 6.0, 27, 1071]], ['Value', 0.365, ['Leaf', 5.0, 3, 1071]], ['Value', 0.37, ['Leaf', 6.0, 14, 1071]], ['Value', 0.38, ['Leaf', 5.0, 18, 1071]], ['Value', 0.39, ['Leaf', 5.0, 34, 1071]], ['Value', 0.4, ['Leaf', 6.0, 29, 1071]], ['Value', 0.41, ['Leaf', 5.0, 22, 1071]], ['Value', 0.415, ['Leaf', 6.0, 2, 1071]], ['Value', 0.42, ['Leaf', 5.0, 28, 1071]], ['Value', 0.43, ['Leaf', 5.0, 30, 1071]], ['Value', 0.44, ['Leaf', 6.0, 11, 1071]], ['Value', 0.45, ['Leaf', 5.0, 17, 1071]], ['Value', 0.46, ['Leaf', 5.0, 22, 1071]], ['Value', 0.47, ['Leaf', 5.0, 8, 1071]], ['Value', 0.48, ['Leaf', 6.0, 11, 1071]], ['Value', 0.49, ['Leaf', 6.0, 19, 1071]], ['Value', 0.5, ['Leaf', 6.0, 38, 1071]], ['Value', 0.51, ['Leaf', 6.0, 11, 1071]], ['Value', 0.52, ['Leaf', 6.0, 21, 1071]], ['Value', 0.53, ['Leaf', 6.0, 20, 1071]], ['Value', 0.54, ['Leaf', 5.0, 14, 1071]], ['Value', 0.545, ['Leaf', 6.0, 8, 1071]], ['Value', 0.55, ['Leaf', 5.0, 16, 1071]], ['Value', 0.56, ['Leaf', 5.0, 31, 1071]], ['Value', 0.565, ['Leaf', 5.0, 1, 1071]], ['Value', 0.57, ['Leaf', 5.0, 20, 1071]], ['Value', 0.575, ['Leaf', 5.0, 4, 1071]], ['Value', 0.58, ['Leaf', 6.0, 14, 1071]], ['Value', 0.585, ['Leaf', 6.0, 1, 1071]], ['Value', 0.59, ['Leaf', 6.0, 30, 1071]], ['Value', 0.6, ['Leaf', 5.0, 28, 1071]], ['Value', 0.605, ['Leaf', 6.0, 1, 1071]], ['Value', 0.61, ['Leaf', 5.0, 30, 1071]], ['Value', 0.615, ['Leaf', 5.0, 5, 1071]], ['Value', 0.62, ['Leaf', 5.0, 19, 1071]], ['Value', 0.625, ['Leaf', 4.0, 2, 1071]], ['Value', 0.63, ['Leaf', 5.0, 17, 1071]], ['Value', 0.635, ['Leaf', 4.0, 6, 1071]], ['Value', 0.64, ['Leaf', 5.0, 13, 1071]], ['Value', 0.645, ['Leaf', 5.0, 6, 1071]], ['Value', 0.65, ['Leaf', 5.0, 14, 1071]], ['Value', 0.655, ['Leaf', 5.0, 3, 1071]], ['Value', 0.66, ['Leaf', 5.0, 16, 1071]], ['Value', 0.67, ['Leaf', 5.0, 17, 1071]], ['Value', 0.675, ['Leaf', 5.0, 2, 1071]], ['Value', 0.68, ['Leaf', 5.0, 8, 1071]], ['Value', 0.685, ['Leaf', 5.0, 6, 1071]], ['Value', 0.69, ['Leaf', 5.0, 16, 1071]], ['Value', 0.695, ['Leaf', 5.0, 4, 1071]], ['Value', 0.7, ['Leaf', 5.0, 5, 1071]], ['Value', 0.705, ['Leaf', 5.0, 3, 1071]], ['Value', 0.71, ['Leaf', 5.0, 5, 1071]], ['Value', 0.715, ['Leaf', 5.0, 7, 1071]], ['Value', 0.72, ['Leaf', 5.0, 4, 1071]], ['Value', 0.725, ['Leaf', 5.0, 8, 1071]], ['Value', 0.73, ['Leaf', 5.0, 4, 1071]], ['Value', 0.735, ['Leaf', 5.0, 8, 1071]], ['Value', 0.74, ['Leaf', 6.0, 3, 1071]], ['Value', 0.745, ['Leaf', 5.0, 1, 1071]], ['Value', 0.75, ['Leaf', 6.0, 1, 1071]], ['Value', 0.76, ['Leaf', 6.0, 1, 1071]], ['Value', 0.765, ['Leaf', 5.0, 5, 1071]], ['Value', 0.77, ['Leaf', 6.0, 1, 1071]], ['Value', 0.775, ['Leaf', 5.0, 7, 1071]], ['Value', 0.78, ['Leaf', 5.0, 5, 1071]], ['Value', 0.785, ['Leaf', 5.0, 2, 1071]], ['Value', 0.795, ['Leaf', 5.0, 1, 1071]], ['Value', 0.8, ['Leaf', 5.0, 4, 1071]], ['Value', 0.82, ['Leaf', 5.0, 4, 1071]], ['Value', 0.825, ['Leaf', 6.0, 1, 1071]], ['Value', 0.83, ['Leaf', 6.0, 3, 1071]], ['Value', 0.835, ['Leaf', 5.0, 1, 1071]], ['Value', 0.84, ['Leaf', 6.0, 6, 1071]], ['Value', 0.845, ['Leaf', 4.0, 1, 1071]], ['Value', 0.85, ['Leaf', 8.0, 1, 1071]], ['Value', 0.865, ['Leaf', 6.0, 1, 1071]], ['Value', 0.87, ['Leaf', 5.0, 2, 1071]], ['Value', 0.875, ['Leaf', 5.0, 2, 1071]], ['Value', 0.88, ['Leaf', 5.0, 3, 1071]], ['Value', 0.885, ['Leaf', 5.0, 1, 1071]], ['Value', 0.89, ['Leaf', 5.0, 1, 1071]], ['Value', 0.91, ['Leaf', 5.0, 1, 1071]], ['Value', 0.915, ['Leaf', 7.0, 2, 1071]], ['Value', 0.92, ['Leaf', 5.0, 2, 1071]], ['Value', 0.935, ['Leaf', 5.0, 5, 1071]], ['Value', 0.96, ['Leaf', 5.0, 1, 1071]], ['Value', 0.965, ['Leaf', 5.0, 2, 1071]], ['Value', 0.975, ['Leaf', 4.0, 2, 1071]], ['Value', 0.98, ['Leaf', 6.0, 5, 1071]], ['Value', 1.0, ['Leaf', 6.0, 2, 1071]], ['Value', 1.005, ['Leaf', 5.0, 2, 1071]], ['Value', 1.02, ['Leaf', 6.0, 2, 1071]], ['Value', 1.025, ['Leaf', 5.0, 2, 1071]], ['Value', 1.035, ['Leaf', 5.0, 4, 1071]], ['Value', 1.04, ['Leaf', 6.0, 1, 1071]], ['Value', 1.07, ['Leaf', 5.0, 1, 1071]], ['Value', 1.09, ['Leaf', 4.0, 1, 1071]], ['Value', 1.13, ['Leaf', 4.0, 1, 1071]], ['Value', 1.185, ['Leaf', 3.0, 1, 1071]], ['Value', 1.24, ['Leaf', 5.0, 1, 1071]], ['Value', 1.33, ['Leaf', 5.0, 2, 1071]]]\n"
     ]
    }
   ],
   "source": [
    "# Get data from csv file\n",
    "table = MyPyTable().load_from_file(\"input_files/winequality-red.csv\")\n",
    "y_col = table.get_column(\"quality\", False)\n",
    "x_cols = table.drop_col(\"quality\")\n",
    "\n",
    "# Split data into train and test cases\n",
    "X_train, X_test, y_train, y_test = myutils.train_test_split(x_cols, y_col, .33)\n",
    "\n",
    "# Use Random Forest to classify\n",
    "testcase = MyRandomForestClassifier()\n",
    "testcase.fit(X_train, y_train, X_test, y_test)\n",
    "y_predicted = testcase.predict(X_test)\n",
    "print(y_predicted)\n",
    "print(y_test)\n",
    "\n"
   ]
  },
  {
   "source": [
    "## Naive Bayes Classifier"
   ],
   "cell_type": "markdown",
   "metadata": {}
  },
  {
   "cell_type": "code",
   "execution_count": 3,
   "metadata": {},
   "outputs": [
    {
     "output_type": "stream",
     "name": "stdout",
     "text": [
      "-----------------------------------------------------------\nAccuracy and Error Rate\n-----------------------------------------------------------\n\nNaive Bayes: accuracy = 0.6, error rate = 0.4\n"
     ]
    }
   ],
   "source": [
    "importlib.reload(mysklearn.mypytable)\n",
    "importlib.reload(mysklearn.myevaluation)\n",
    "import numpy as np\n",
    "\n",
    "# Get data from csv file\n",
    "table = MyPyTable().load_from_file(os.path.join(\"input_files\",\"winequality-red.csv\"))\n",
    "y_col = table.get_column(\"quality\", False)\n",
    "x_cols = table.drop_col(\"quality\")\n",
    "\n",
    "# Use Naive Bayes to classify\n",
    "testcase = MyNaiveBayesClassifier()\n",
    "\n",
    "#Returns x INDEXES\n",
    "X_train, X_test = myevaluation.stratified_kfold_cross_validation(x_cols,y_col,n_splits=10)\n",
    "X_train, X_test, y_train, y_test = myutils.getInstances(X_train, X_test, x_cols,y_col)\n",
    "\n",
    "predicted_values = []\n",
    "for i,fold in enumerate(X_train):\n",
    "    train,test = myutils.normalize_values(X_train[i],X_test[i])\n",
    "    testcase.fit(train,y_train[i])\n",
    "    predicted_values.append(testcase.predict(test))\n",
    "\n",
    "numCorrectPredictions = 0\n",
    "numWrongPredictions = 0\n",
    "for i,fold in enumerate(X_test):\n",
    "    for index in range(len(fold)):\n",
    "        values = [predicted_values[i][index], y_test[i][index]] #predicted/actual\n",
    "        if(values[0]==values[1]):\n",
    "            numCorrectPredictions = numCorrectPredictions+1\n",
    "        else:\n",
    "            numWrongPredictions = numWrongPredictions+1\n",
    "\n",
    "accuracy = np.round((numCorrectPredictions)/(numCorrectPredictions+numWrongPredictions),3)\n",
    "error_rate = np.round((numWrongPredictions)/(numCorrectPredictions+numWrongPredictions),3)\n",
    "\n",
    "print(\"-----------------------------------------------------------\")\n",
    "print(\"Accuracy and Error Rate\")\n",
    "print(\"-----------------------------------------------------------\")\n",
    "print()\n",
    "print(\"Naive Bayes: accuracy = {}, error rate = {}\".format(accuracy,error_rate))"
   ]
  },
  {
   "source": [
    "## Decision Tree Classifier"
   ],
   "cell_type": "markdown",
   "metadata": {}
  },
  {
   "cell_type": "code",
   "execution_count": 4,
   "metadata": {
    "tags": []
   },
   "outputs": [
    {
     "output_type": "stream",
     "name": "stdout",
     "text": [
      "IF alcohol == 1 AND total sulfur dioxide == 1 THEN quality == 6.0\nIF alcohol == 1 AND total sulfur dioxide == 2 THEN quality == 6.0\nIF alcohol == 1 AND total sulfur dioxide == 3 THEN quality == 6.0\nIF alcohol == 1 AND total sulfur dioxide == 4 THEN quality == 5.0\nIF alcohol == 1 AND total sulfur dioxide == 5 THEN quality == 5.0\nIF alcohol == 1 AND total sulfur dioxide == 6 THEN quality == 5.0\nIF alcohol == 2 AND total sulfur dioxide == 1 AND sulphates == 1 THEN quality == 5.0\nIF alcohol == 2 AND total sulfur dioxide == 1 AND sulphates == 2 THEN quality == 5.0\nIF alcohol == 2 AND total sulfur dioxide == 1 AND sulphates == 3 THEN quality == 6.0\nIF alcohol == 2 AND total sulfur dioxide == 1 AND sulphates == 4 THEN quality == 6.0\nIF alcohol == 2 AND total sulfur dioxide == 1 AND sulphates == 5 THEN quality == 5.0\nIF alcohol == 2 AND total sulfur dioxide == 2 THEN quality == 5.0\nIF alcohol == 2 AND total sulfur dioxide == 3 THEN quality == 5.0\nIF alcohol == 2 AND total sulfur dioxide == 4 AND citric acid == 1 THEN quality == 5.0\nIF alcohol == 2 AND total sulfur dioxide == 4 AND citric acid == 2 THEN quality == 5.0\nIF alcohol == 2 AND total sulfur dioxide == 4 AND citric acid == 3 THEN quality == 5.0\nIF alcohol == 2 AND total sulfur dioxide == 4 AND citric acid == 4 THEN quality == 6.0\nIF alcohol == 2 AND total sulfur dioxide == 4 AND citric acid == 5 THEN quality == 4.0\nIF alcohol == 2 AND total sulfur dioxide == 5 THEN quality == 5.0\nIF alcohol == 2 AND total sulfur dioxide == 6 THEN quality == 5.0\nIF alcohol == 3 AND volatile acidity == 1 THEN quality == 6.0\nIF alcohol == 3 AND volatile acidity == 2 AND total sulfur dioxide == 1 THEN quality == 6.0\nIF alcohol == 3 AND volatile acidity == 2 AND total sulfur dioxide == 2 THEN quality == 6.0\nIF alcohol == 3 AND volatile acidity == 2 AND total sulfur dioxide == 3 THEN quality == 6.0\nIF alcohol == 3 AND volatile acidity == 2 AND total sulfur dioxide == 4 THEN quality == 6.0\nIF alcohol == 3 AND volatile acidity == 2 AND total sulfur dioxide == 5 THEN quality == 5.0\nIF alcohol == 3 AND volatile acidity == 2 AND total sulfur dioxide == 6 THEN quality == 5.0\nIF alcohol == 3 AND volatile acidity == 3 THEN quality == 6.0\nIF alcohol == 3 AND volatile acidity == 4 THEN quality == 3.0\nIF alcohol == 3 AND volatile acidity == 5 THEN quality == 5.0\nIF alcohol == 4 AND pH == 1 THEN quality == 5.0\nIF alcohol == 4 AND pH == 2 THEN quality == 7.0\nIF alcohol == 4 AND pH == 3 AND total sulfur dioxide == 1 THEN quality == 6.0\nIF alcohol == 4 AND pH == 3 AND total sulfur dioxide == 2 THEN quality == 7.0\nIF alcohol == 4 AND pH == 3 AND total sulfur dioxide == 3 THEN quality == 6.0\nIF alcohol == 4 AND pH == 3 AND total sulfur dioxide == 4 THEN quality == 6.0\nIF alcohol == 4 AND pH == 3 AND total sulfur dioxide == 5 THEN quality == 7.0\nIF alcohol == 4 AND pH == 3 AND total sulfur dioxide == 6 THEN quality == 6.0\nIF alcohol == 4 AND pH == 4 AND total sulfur dioxide == 1 THEN quality == 7.0\nIF alcohol == 4 AND pH == 4 AND total sulfur dioxide == 2 THEN quality == 6.0\nIF alcohol == 4 AND pH == 4 AND total sulfur dioxide == 3 THEN quality == 6.0\nIF alcohol == 4 AND pH == 4 AND total sulfur dioxide == 4 THEN quality == 6.0\nIF alcohol == 4 AND pH == 4 AND total sulfur dioxide == 5 THEN quality == 6.0\nIF alcohol == 4 AND pH == 4 AND total sulfur dioxide == 6 THEN quality == 5.0\nIF alcohol == 4 AND pH == 5 THEN quality == 6.0\nIF alcohol == 4 AND pH == 6 THEN quality == 5.0\nIF alcohol == 5 AND density == 1 THEN quality == 6.0\nIF alcohol == 5 AND density == 2 AND total sulfur dioxide == 1 THEN quality == 7.0\nIF alcohol == 5 AND density == 2 AND total sulfur dioxide == 2 THEN quality == 6.0\nIF alcohol == 5 AND density == 2 AND total sulfur dioxide == 3 THEN quality == 7.0\nIF alcohol == 5 AND density == 2 AND total sulfur dioxide == 4 THEN quality == 6.0\nIF alcohol == 5 AND density == 2 AND total sulfur dioxide == 5 THEN quality == 6.0\nIF alcohol == 5 AND density == 2 AND total sulfur dioxide == 6 THEN quality == 6.0\nIF alcohol == 5 AND density == 3 THEN quality == 6.0\nIF alcohol == 5 AND density == 4 THEN quality == 6.0\nIF alcohol == 5 AND density == 5 THEN quality == 7.0\nIF alcohol == 5 AND density == 6 THEN quality == 7.0\nIF alcohol == 5 AND density == 7 THEN quality == 6.0\nIF alcohol == 6 THEN quality == 6.0\nIF alcohol == 7 THEN quality == 5.0\nDecision Tree: accuracy = 0.579, error rate = 0.421\n"
     ]
    }
   ],
   "source": [
    "importlib.reload(mysklearn.mypytable)\n",
    "importlib.reload(mysklearn.myevaluation)\n",
    "import numpy as np\n",
    "\n",
    "# Get data from csv file\n",
    "table = MyPyTable().load_from_file(os.path.join(\"input_files\",\"winequality-red.csv\"))\n",
    "y_col = table.get_column(\"quality\", False)\n",
    "x_cols = table.drop_col(\"quality\")\n",
    "\n",
    "# TODO: NEED TO CHANGE X-COLS TO CATEGORICAL ATTRIBUTES\n",
    "\n",
    "# Use Decision Tree to classify\n",
    "testcase = MyDecisionTreeClassifier()\n",
    "\n",
    "#Returns x INDEXES\n",
    "X_train, X_test = myevaluation.stratified_kfold_cross_validation(x_cols,y_col,n_splits=10)\n",
    "X_train, X_test, y_train, y_test = myutils.getInstances(X_train, X_test, x_cols,y_col)\n",
    "\n",
    "predicted_values = []\n",
    "for i,fold in enumerate(X_train):\n",
    "    train = myutils.categorize_dataset(X_train[i])\n",
    "    test = myutils.categorize_dataset(X_test[i])\n",
    "    testcase.fit(train,y_train[i])\n",
    "    predicted_values.append(testcase.predict(test))\n",
    "\n",
    "#testcase.print_decision_rules(table.column_names[:-1],\"quality\")\n",
    "\n",
    "numCorrectPredictions = 0\n",
    "numWrongPredictions = 0\n",
    "for i,fold in enumerate(X_test):\n",
    "    for index in range(len(fold)):\n",
    "        values = [predicted_values[i][index], y_test[i][index]] #predicted/actual\n",
    "        if(values[0]==values[1]):\n",
    "            numCorrectPredictions = numCorrectPredictions+1\n",
    "        else:\n",
    "            numWrongPredictions = numWrongPredictions+1\n",
    "\n",
    "accuracy = np.round((numCorrectPredictions)/(numCorrectPredictions+numWrongPredictions),3)\n",
    "error_rate = np.round((numWrongPredictions)/(numCorrectPredictions+numWrongPredictions),3)\n",
    "\n",
    "print(\"Decision Tree: accuracy = {}, error rate = {}\".format(accuracy,error_rate))"
   ]
  },
  {
   "cell_type": "code",
   "execution_count": null,
   "metadata": {},
   "outputs": [],
   "source": []
  }
 ]
}