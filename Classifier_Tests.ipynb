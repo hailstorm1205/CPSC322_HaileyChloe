{
 "metadata": {
  "language_info": {
   "codemirror_mode": {
    "name": "ipython",
    "version": 3
   },
   "file_extension": ".py",
   "mimetype": "text/x-python",
   "name": "python",
   "nbconvert_exporter": "python",
   "pygments_lexer": "ipython3",
   "version": "3.8.5-final"
  },
  "orig_nbformat": 2,
  "kernelspec": {
   "name": "python385jvsc74a57bd098b0a9b7b4eaaa670588a142fd0a9b87eaafe866f1db4228be72b4211d12040f",
   "display_name": "Python 3.8.5 64-bit ('base': conda)"
  }
 },
 "nbformat": 4,
 "nbformat_minor": 2,
 "cells": [
  {
   "source": [
    "# Classifier Tests Jupyter Notebook"
   ],
   "cell_type": "markdown",
   "metadata": {}
  },
  {
   "cell_type": "code",
   "execution_count": 1,
   "metadata": {},
   "outputs": [],
   "source": [
    "import importlib\n",
    "\n",
    "# Import myutils.py from mysklearn forlder\n",
    "import mysklearn.myutils\n",
    "importlib.reload(mysklearn.myutils)\n",
    "import mysklearn.myutils as myutils\n",
    "\n",
    "# Import mypytable.py from mysklearn folder\n",
    "import mysklearn.mypytable\n",
    "importlib.reload(mysklearn.mypytable)\n",
    "from mysklearn.mypytable import MyPyTable \n",
    "\n",
    "# Import myclassifiers.py from mysklearn folder\n",
    "import mysklearn.myclassifiers\n",
    "importlib.reload(mysklearn.myclassifiers)\n",
    "from mysklearn.myclassifiers import MyRandomForestClassifier, MyKNeighborsClassifier, MyDecisionTreeClassifier, MyNaiveBayesClassifier\n",
    "\n",
    "# Import myevaluation.py from mysklearn folder\n",
    "import mysklearn.myevaluation\n",
    "importlib.reload(mysklearn.myevaluation)\n",
    "import mysklearn.myevaluation as myevaluation"
   ]
  },
  {
   "source": [
    "## Random Forest Classifier"
   ],
   "cell_type": "markdown",
   "metadata": {}
  },
  {
   "cell_type": "code",
   "execution_count": 2,
   "metadata": {},
   "outputs": [],
   "source": [
    "# Code goes here"
   ]
  },
  {
   "source": [
    "## Naive Bayes Classifier"
   ],
   "cell_type": "markdown",
   "metadata": {}
  },
  {
   "cell_type": "code",
   "execution_count": 4,
   "metadata": {},
   "outputs": [
    {
     "output_type": "stream",
     "name": "stdout",
     "text": [
      "-----------------------------------------------------------\nNaive Bayes\nAccuracy/Error Rate\n-----------------------------------------------------------\n\nDecision Tree: accuracy = 0.6, error rate = 0.4\n"
     ]
    }
   ],
   "source": [
    "importlib.reload(mysklearn.mypytable)\n",
    "importlib.reload(mysklearn.myevaluation)\n",
    "import numpy as np\n",
    "\n",
    "# Get data from csv file\n",
    "table = MyPyTable().load_from_file(os.path.join(\"input_files\",\"winequality-red.csv\"))\n",
    "y_col = table.get_column(\"quality\", False)\n",
    "x_cols = table.drop_col(\"quality\")\n",
    "\n",
    "# Use Naive Bayes to classify\n",
    "testcase = MyNaiveBayesClassifier()\n",
    "\n",
    "#Returns x INDEXES\n",
    "X_train, X_test = myevaluation.stratified_kfold_cross_validation(x_cols,y_col,n_splits=10)\n",
    "X_train, X_test, y_train, y_test = myutils.getInstances(X_train, X_test, x_cols,y_col)\n",
    "\n",
    "predicted_values = []\n",
    "for i,fold in enumerate(X_train):\n",
    "    train,test = myutils.normalize_values(X_train[i],X_test[i])\n",
    "    testcase.fit(train,y_train[i])\n",
    "    predicted_values.append(testcase.predict(test))\n",
    "\n",
    "numCorrectPredictions = 0\n",
    "numWrongPredictions = 0\n",
    "for i,fold in enumerate(X_test):\n",
    "    for index in range(len(fold)):\n",
    "        values = [predicted_values[i][index], y_test[i][index]] #predicted/actual\n",
    "        if(values[0]==values[1]):\n",
    "            numCorrectPredictions = numCorrectPredictions+1\n",
    "        else:\n",
    "            numWrongPredictions = numWrongPredictions+1\n",
    "\n",
    "accuracy = np.round((numCorrectPredictions)/(numCorrectPredictions+numWrongPredictions),3)\n",
    "error_rate = np.round((numWrongPredictions)/(numCorrectPredictions+numWrongPredictions),3)\n",
    "\n",
    "print(\"-----------------------------------------------------------\")\n",
    "print(\"Accuracy and Error Rate\")\n",
    "print(\"-----------------------------------------------------------\")\n",
    "print()\n",
    "print(\"Naive Bayes: accuracy = {}, error rate = {}\".format(accuracy,error_rate))"
   ]
  },
  {
   "source": [
    "## Decision Tree Classifier"
   ],
   "cell_type": "markdown",
   "metadata": {}
  },
  {
   "cell_type": "code",
   "execution_count": 5,
   "metadata": {
    "tags": []
   },
   "outputs": [
    {
     "output_type": "stream",
     "name": "stdout",
     "text": [
      "[None, None, None, None, None, None, None, None, None, None]\nIF density == 0.9900700000000001 THEN quality == 6.0\nIF density == 0.9902 THEN quality == 6.0\nIF density == 0.99064 THEN quality == 7.0\nIF density == 0.9908 THEN quality == 8.0\nIF density == 0.9908399999999999 THEN quality == 6.0\nIF density == 0.9912 THEN quality == 6.0\nIF density == 0.9915 THEN quality == 6.0\nIF density == 0.99154 THEN quality == 7.0\nIF density == 0.9915700000000001 THEN quality == 7.0\nIF density == 0.9916 THEN quality == 6.0\nIF density == 0.9916200000000001 THEN quality == 6.0\nIF density == 0.9917 THEN quality == 8.0\nIF density == 0.99182 THEN quality == 7.0\nIF density == 0.9919100000000001 THEN quality == 6.0\nIF density == 0.9921 THEN quality == 6.0\nIF density == 0.9922 THEN quality == 6.0\nIF density == 0.99235 THEN quality == 8.0\nIF density == 0.99236 THEN quality == 6.0\nIF density == 0.9924 THEN quality == 7.0\nIF density == 0.9924200000000001 THEN quality == 6.0\nIF density == 0.99256 THEN quality == 5.0\nIF density == 0.9925799999999999 THEN quality == 5.0\nIF density == 0.99264 THEN quality == 7.0\nIF density == 0.9927 THEN quality == 7.0\nIF density == 0.9928 THEN quality == 7.0\nIF density == 0.9928600000000001 THEN quality == 5.0\nIF density == 0.9929 THEN quality == 6.0\nIF density == 0.99292 THEN quality == 6.0\nIF density == 0.9929399999999999 THEN quality == 6.0\nIF density == 0.99306 THEN quality == 5.0\nIF density == 0.9931399999999999 THEN quality == 6.0\nIF density == 0.99316 THEN quality == 7.0\nIF density == 0.99318 THEN quality == 7.0\nIF density == 0.9932 THEN quality == 6.0\nIF density == 0.9932200000000001 THEN quality == 5.0\nIF density == 0.99323 THEN quality == 6.0\nIF density == 0.9932799999999999 THEN quality == 6.0\nIF density == 0.9933 THEN quality == 7.0\nIF density == 0.99331 THEN quality == 6.0\nIF density == 0.9933200000000001 THEN quality == 6.0\nIF density == 0.99334 THEN quality == 5.0\nIF density == 0.99336 THEN quality == 5.0\nIF density == 0.9934 THEN quality == 4.0\nIF density == 0.99341 THEN quality == 5.0\nIF density == 0.99344 THEN quality == 6.0\nIF density == 0.99346 THEN quality == 6.0\nIF density == 0.9935 THEN quality == 6.0\nIF density == 0.9935200000000001 THEN quality == 6.0\nIF density == 0.99354 THEN quality == 6.0\nIF density == 0.99356 THEN quality == 7.0\nIF density == 0.9935700000000001 THEN quality == 6.0\nIF density == 0.9935799999999999 THEN quality == 7.0\nIF density == 0.9936 THEN quality == 6.0\nIF density == 0.9936200000000001 THEN quality == 5.0\nIF density == 0.99364 THEN quality == 6.0\nIF density == 0.9937 THEN quality == 5.0\nIF density == 0.99371 THEN quality == 6.0\nIF density == 0.99374 THEN quality == 5.0\nIF density == 0.9937600000000001 THEN quality == 6.0\nIF density == 0.9937799999999999 THEN quality == 7.0\nIF density == 0.99379 THEN quality == 6.0\nIF density == 0.9938 THEN quality == 4.0\nIF density == 0.99384 THEN quality == 6.0\nIF density == 0.99385 THEN quality == 5.0\nIF density == 0.9938600000000001 THEN quality == 7.0\nIF density == 0.99387 THEN quality == 6.0\nIF density == 0.9938799999999999 THEN quality == 6.0\nIF density == 0.99392 THEN quality == 5.0\nIF density == 0.9939399999999999 THEN quality == 7.0\nIF density == 0.99395 THEN quality == 5.0\nIF density == 0.9939600000000001 THEN quality == 6.0\nIF density == 0.99397 THEN quality == 7.0\nIF density == 0.9940000000000001 THEN quality == 6.0\nIF density == 0.9940200000000001 THEN quality == 6.0\nIF density == 0.99408 THEN quality == 7.0\nIF density == 0.9941 THEN quality == 5.0\nIF density == 0.9941399999999999 THEN quality == 6.0\nIF density == 0.99416 THEN quality == 7.0\nIF density == 0.99418 THEN quality == 6.0\nIF density == 0.99419 THEN quality == 7.0\nIF density == 0.9942 THEN quality == 5.0\nIF density == 0.99425 THEN quality == 5.0\nIF density == 0.9942799999999999 THEN quality == 7.0\nIF density == 0.9943 THEN quality == 6.0\nIF density == 0.99434 THEN quality == 7.0\nIF density == 0.9943799999999999 THEN quality == 6.0\nIF density == 0.9944 THEN quality == 6.0\nIF density == 0.99444 THEN quality == 6.0\nIF density == 0.9944799999999999 THEN quality == 5.0\nIF density == 0.99451 THEN quality == 8.0\nIF density == 0.99454 THEN quality == 6.0\nIF density == 0.99456 THEN quality == 6.0\nIF density == 0.9945799999999999 THEN quality == 6.0\nIF density == 0.99459 THEN quality == 7.0\nIF density == 0.9946 THEN quality == 6.0\nIF density == 0.9946200000000001 THEN quality == 8.0\nIF density == 0.99464 THEN quality == 5.0\nIF density == 0.99467 THEN quality == 6.0\nIF density == 0.9946799999999999 THEN quality == 7.0\nIF density == 0.9947 THEN quality == 7.0\nIF density == 0.99471 THEN quality == 6.0\nIF density == 0.99472 THEN quality == 5.0\nIF density == 0.9947299999999999 THEN quality == 7.0\nIF density == 0.99474 THEN quality == 6.0\nIF density == 0.9947600000000001 THEN quality == 6.0\nIF density == 0.9947799999999999 THEN quality == 6.0\nIF density == 0.99479 THEN quality == 6.0\nIF density == 0.9948 THEN quality == 6.0\nIF density == 0.99484 THEN quality == 7.0\nIF density == 0.9948600000000001 THEN quality == 7.0\nIF density == 0.9948799999999999 THEN quality == 7.0\nIF density == 0.9948899999999999 THEN quality == 6.0\nIF density == 0.9949 THEN quality == 6.0\nIF density == 0.9949100000000001 THEN quality == 6.0\nIF density == 0.99492 THEN quality == 6.0\nIF density == 0.9949399999999999 THEN quality == 5.0\nIF density == 0.99495 THEN quality == 7.0\nIF density == 0.9949600000000001 THEN quality == 5.0\nIF density == 0.99498 THEN quality == 7.0\nIF density == 0.9949899999999999 THEN quality == 5.0\nIF density == 0.995 THEN quality == 6.0\nIF density == 0.9950100000000001 THEN quality == 5.0\nIF density == 0.9950200000000001 THEN quality == 6.0\nIF density == 0.9950399999999999 THEN quality == 6.0\nIF density == 0.9950600000000001 THEN quality == 6.0\nIF density == 0.99508 THEN quality == 6.0\nIF density == 0.9951 THEN quality == 6.0\nIF density == 0.9951200000000001 THEN quality == 6.0\nIF density == 0.9951399999999999 THEN quality == 7.0\nIF density == 0.99516 THEN quality == 7.0\nIF density == 0.99518 THEN quality == 6.0\nIF density == 0.99519 THEN quality == 7.0\nIF density == 0.9952 THEN quality == 7.0\nIF density == 0.99521 THEN quality == 5.0\nIF density == 0.9952200000000001 THEN quality == 6.0\nIF density == 0.99523 THEN quality == 7.0\nIF density == 0.99524 THEN quality == 7.0\nIF density == 0.99525 THEN quality == 5.0\nIF density == 0.99526 THEN quality == 7.0\nIF density == 0.9952799999999999 THEN quality == 6.0\nIF density == 0.99529 THEN quality == 5.0\nIF density == 0.9953 THEN quality == 6.0\nIF density == 0.99531 THEN quality == 6.0\nIF density == 0.9953200000000001 THEN quality == 5.0\nIF density == 0.9953299999999999 THEN quality == 6.0\nIF density == 0.99534 THEN quality == 7.0\nIF density == 0.99536 THEN quality == 7.0\nIF density == 0.9953799999999999 THEN quality == 6.0\nIF density == 0.9954 THEN quality == 5.0\nIF density == 0.99541 THEN quality == 6.0\nIF density == 0.9954200000000001 THEN quality == 5.0\nIF density == 0.9954299999999999 THEN quality == 6.0\nIF density == 0.99544 THEN quality == 6.0\nIF density == 0.99545 THEN quality == 6.0\nIF density == 0.99546 THEN quality == 5.0\nIF density == 0.9954700000000001 THEN quality == 5.0\nIF density == 0.99549 THEN quality == 6.0\nIF density == 0.9955 THEN quality == 5.0\nIF density == 0.99551 THEN quality == 5.0\nIF density == 0.9955200000000001 THEN quality == 7.0\nIF density == 0.99554 THEN quality == 6.0\nIF density == 0.99555 THEN quality == 6.0\nIF density == 0.99556 THEN quality == 6.0\nIF density == 0.9955700000000001 THEN quality == 4.0\nIF density == 0.9955799999999999 THEN quality == 5.0\nIF density == 0.9956 THEN quality == 6.0\nIF density == 0.9956200000000001 THEN quality == 5.0\nIF density == 0.99564 THEN quality == 6.0\nIF density == 0.99565 THEN quality == 6.0\nIF density == 0.99566 THEN quality == 6.0\nIF density == 0.9956799999999999 THEN quality == 7.0\nIF density == 0.99569 THEN quality == 5.0\nIF density == 0.9957 THEN quality == 5.0\nIF density == 0.99572 THEN quality == 6.0\nIF density == 0.9957299999999999 THEN quality == 6.0\nIF density == 0.99574 THEN quality == 6.0\nIF density == 0.99575 THEN quality == 5.0\nIF density == 0.9957600000000001 THEN quality == 5.0\nIF density == 0.99577 THEN quality == 6.0\nIF density == 0.9957799999999999 THEN quality == 5.0\nIF density == 0.9958 THEN quality == 5.0\nIF density == 0.9958100000000001 THEN quality == 6.0\nIF density == 0.99582 THEN quality == 6.0\nIF density == 0.99584 THEN quality == 5.0\nIF density == 0.99585 THEN quality == 6.0\nIF density == 0.9958600000000001 THEN quality == 7.0\nIF density == 0.99587 THEN quality == 5.0\nIF density == 0.9958799999999999 THEN quality == 6.0\nIF density == 0.9958899999999999 THEN quality == 6.0\nIF density == 0.9959 THEN quality == 6.0\nIF density == 0.99592 THEN quality == 5.0\nIF density == 0.99593 THEN quality == 6.0\nIF density == 0.9959399999999999 THEN quality == 7.0\nIF density == 0.9959600000000001 THEN quality == 5.0\nIF density == 0.99598 THEN quality == 6.0\nIF density == 0.9959899999999999 THEN quality == 6.0\nIF density == 0.996 THEN quality == 5.0\nIF density == 0.99603 THEN quality == 5.0\nIF density == 0.9960399999999999 THEN quality == 7.0\nIF density == 0.99605 THEN quality == 5.0\nIF density == 0.9960600000000001 THEN quality == 5.0\nIF density == 0.99608 THEN quality == 6.0\nIF density == 0.9960899999999999 THEN quality == 6.0\nIF density == 0.9961 THEN quality == 5.0\nIF density == 0.9961200000000001 THEN quality == 5.0\nIF density == 0.99613 THEN quality == 5.0\nIF density == 0.9961399999999999 THEN quality == 4.0\nIF density == 0.99615 THEN quality == 6.0\nIF density == 0.99616 THEN quality == 6.0\nIF density == 0.9961700000000001 THEN quality == 6.0\nIF density == 0.9961899999999999 THEN quality == 6.0\nIF density == 0.9962 THEN quality == 5.0\nIF density == 0.99621 THEN quality == 5.0\nIF density == 0.9962200000000001 THEN quality == 5.0\nIF density == 0.99623 THEN quality == 5.0\nIF density == 0.99624 THEN quality == 5.0\nIF density == 0.99625 THEN quality == 5.0\nIF density == 0.9962700000000001 THEN quality == 6.0\nIF density == 0.9962799999999999 THEN quality == 5.0\nIF density == 0.99629 THEN quality == 5.0\nIF density == 0.9963 THEN quality == 5.0\nIF density == 0.99631 THEN quality == 5.0\nIF density == 0.9963200000000001 THEN quality == 5.0\nIF density == 0.9963299999999999 THEN quality == 5.0\nIF density == 0.99634 THEN quality == 5.0\nIF density == 0.99635 THEN quality == 6.0\nIF density == 0.99636 THEN quality == 5.0\nIF density == 0.9963799999999999 THEN quality == 6.0\nIF density == 0.99639 THEN quality == 5.0\nIF density == 0.9964 THEN quality == 5.0\nIF density == 0.99641 THEN quality == 5.0\nIF density == 0.9964200000000001 THEN quality == 6.0\nIF density == 0.9964299999999999 THEN quality == 7.0\nIF density == 0.99645 THEN quality == 5.0\nIF density == 0.99646 THEN quality == 6.0\nIF density == 0.9964700000000001 THEN quality == 5.0\nIF density == 0.9964799999999999 THEN quality == 4.0\nIF density == 0.99649 THEN quality == 6.0\nIF density == 0.9965 THEN quality == 5.0\nIF density == 0.99651 THEN quality == 6.0\nIF density == 0.9965200000000001 THEN quality == 6.0\nIF density == 0.99654 THEN quality == 5.0\nIF density == 0.99655 THEN quality == 5.0\nIF density == 0.99656 THEN quality == 5.0\nIF density == 0.9965799999999999 THEN quality == 7.0\nIF density == 0.99659 THEN quality == 6.0\nIF density == 0.9966 THEN quality == 5.0\nIF density == 0.99661 THEN quality == 6.0\nIF density == 0.99664 THEN quality == 5.0\nIF density == 0.99666 THEN quality == 5.0\nIF density == 0.9966700000000001 THEN quality == 6.0\nIF density == 0.9966799999999999 THEN quality == 5.0\nIF density == 0.99669 THEN quality == 5.0\nIF density == 0.9967 THEN quality == 6.0\nIF density == 0.99672 THEN quality == 6.0\nIF density == 0.99674 THEN quality == 6.0\nIF density == 0.99675 THEN quality == 6.0\nIF density == 0.9967600000000001 THEN quality == 7.0\nIF density == 0.99677 THEN quality == 6.0\nIF density == 0.9967799999999999 THEN quality == 6.0\nIF density == 0.9968 THEN quality == 5.0\nIF density == 0.99682 THEN quality == 6.0\nIF density == 0.9968299999999999 THEN quality == 5.0\nIF density == 0.99685 THEN quality == 6.0\nIF density == 0.9968600000000001 THEN quality == 6.0\nIF density == 0.9968799999999999 THEN quality == 6.0\nIF density == 0.9968899999999999 THEN quality == 5.0\nIF density == 0.9969 THEN quality == 5.0\nIF density == 0.99692 THEN quality == 6.0\nIF density == 0.9969299999999999 THEN quality == 5.0\nIF density == 0.9969399999999999 THEN quality == 5.0\nIF density == 0.99695 THEN quality == 7.0\nIF density == 0.99697 THEN quality == 6.0\nIF density == 0.99698 THEN quality == 6.0\nIF density == 0.9969899999999999 THEN quality == 5.0\nIF density == 0.997 THEN quality == 5.0\nIF density == 0.9970100000000001 THEN quality == 6.0\nIF density == 0.99702 THEN quality == 7.0\nIF density == 0.9970399999999999 THEN quality == 6.0\nIF density == 0.99705 THEN quality == 3.0\nIF density == 0.9970600000000001 THEN quality == 5.0\nIF density == 0.99708 THEN quality == 5.0\nIF density == 0.9970899999999999 THEN quality == 5.0\nIF density == 0.9971 THEN quality == 5.0\nIF density == 0.9971200000000001 THEN quality == 5.0\nIF density == 0.99713 THEN quality == 6.0\nIF density == 0.9971399999999999 THEN quality == 6.0\nIF density == 0.99716 THEN quality == 6.0\nIF density == 0.9971700000000001 THEN quality == 5.0\nIF density == 0.99718 THEN quality == 5.0\nIF density == 0.9971899999999999 THEN quality == 4.0\nIF density == 0.9972 THEN quality == 6.0\nIF density == 0.99721 THEN quality == 6.0\nIF density == 0.99724 THEN quality == 6.0\nIF density == 0.99725 THEN quality == 6.0\nIF density == 0.99726 THEN quality == 5.0\nIF density == 0.9972700000000001 THEN quality == 6.0\nIF density == 0.9972799999999999 THEN quality == 5.0\nIF density == 0.99729 THEN quality == 5.0\nIF density == 0.9973 THEN quality == 5.0\nIF density == 0.9973200000000001 THEN quality == 5.0\nIF density == 0.9973299999999999 THEN quality == 5.0\nIF density == 0.99734 THEN quality == 6.0\nIF density == 0.99735 THEN quality == 5.0\nIF density == 0.99736 THEN quality == 7.0\nIF density == 0.9973799999999999 THEN quality == 5.0\nIF density == 0.99739 THEN quality == 6.0\nIF density == 0.9974 THEN quality == 5.0\nIF density == 0.9974299999999999 THEN quality == 5.0\nIF density == 0.99744 THEN quality == 6.0\nIF density == 0.99745 THEN quality == 6.0\nIF density == 0.99746 THEN quality == 5.0\nIF density == 0.9974700000000001 THEN quality == 6.0\nIF density == 0.9974799999999999 THEN quality == 5.0\nIF density == 0.9975 THEN quality == 5.0\nIF density == 0.9975200000000001 THEN quality == 5.0\nIF density == 0.99754 THEN quality == 6.0\nIF density == 0.99756 THEN quality == 5.0\nIF density == 0.9975799999999999 THEN quality == 6.0\nIF density == 0.9976 THEN quality == 5.0\nIF density == 0.99761 THEN quality == 6.0\nIF density == 0.99764 THEN quality == 6.0\nIF density == 0.99765 THEN quality == 5.0\nIF density == 0.9976799999999999 THEN quality == 6.0\nIF density == 0.99769 THEN quality == 7.0\nIF density == 0.9977 THEN quality == 6.0\nIF density == 0.99772 THEN quality == 5.0\nIF density == 0.99774 THEN quality == 6.0\nIF density == 0.99779 THEN quality == 5.0\nIF density == 0.9978 THEN quality == 5.0\nIF density == 0.99782 THEN quality == 5.0\nIF density == 0.9978299999999999 THEN quality == 5.0\nIF density == 0.99784 THEN quality == 5.0\nIF density == 0.99785 THEN quality == 5.0\nIF density == 0.9978600000000001 THEN quality == 5.0\nIF density == 0.99787 THEN quality == 6.0\nIF density == 0.9978799999999999 THEN quality == 5.0\nIF density == 0.9979 THEN quality == 5.0\nIF density == 0.9979100000000001 THEN quality == 4.0\nIF density == 0.9979600000000001 THEN quality == 5.0\nIF density == 0.99798 THEN quality == 6.0\nIF density == 0.998 THEN quality == 5.0\nIF density == 0.9980100000000001 THEN quality == 5.0\nIF density == 0.99803 THEN quality == 5.0\nIF density == 0.99808 THEN quality == 3.0\nIF density == 0.9981 THEN quality == 6.0\nIF density == 0.9981399999999999 THEN quality == 6.0\nIF density == 0.99815 THEN quality == 6.0\nIF density == 0.9981700000000001 THEN quality == 5.0\nIF density == 0.99818 THEN quality == 5.0\nIF density == 0.9982 THEN quality == 5.0\nIF density == 0.9982200000000001 THEN quality == 6.0\nIF density == 0.99823 THEN quality == 5.0\nIF density == 0.99824 THEN quality == 6.0\nIF density == 0.99828 THEN quality == 5.0\nIF density == 0.9983 THEN quality == 6.0\nIF density == 0.9983200000000001 THEN quality == 3.0\nIF density == 0.99834 THEN quality == 7.0\nIF density == 0.99836 THEN quality == 6.0\nIF density == 0.9984 THEN quality == 6.0\nIF density == 0.9984200000000001 THEN quality == 6.0\nIF density == 0.99845 THEN quality == 5.0\nIF density == 0.9985 THEN quality == 6.0\nIF density == 0.9985200000000001 THEN quality == 5.0\nIF density == 0.99854 THEN quality == 5.0\nIF density == 0.99855 THEN quality == 5.0\nIF density == 0.99859 THEN quality == 7.0\nIF density == 0.9986 THEN quality == 5.0\nIF density == 0.99864 THEN quality == 7.0\nIF density == 0.99865 THEN quality == 6.0\nIF density == 0.9987 THEN quality == 6.0\nIF density == 0.9987799999999999 THEN quality == 5.0\nIF density == 0.9988 THEN quality == 5.0\nIF density == 0.9988799999999999 THEN quality == 6.0\nIF density == 0.9989 THEN quality == 7.0\nIF density == 0.99892 THEN quality == 5.0\nIF density == 0.9990000000000001 THEN quality == 6.0\nIF density == 0.9990100000000001 THEN quality == 6.0\nIF density == 0.9991 THEN quality == 6.0\nIF density == 0.9991399999999999 THEN quality == 5.0\nIF density == 0.99915 THEN quality == 5.0\nIF density == 0.99918 THEN quality == 5.0\nIF density == 0.9992 THEN quality == 5.0\nIF density == 0.9992200000000001 THEN quality == 5.0\nIF density == 0.99925 THEN quality == 6.0\nIF density == 0.9993 THEN quality == 6.0\nIF density == 0.99935 THEN quality == 5.0\nIF density == 0.99939 THEN quality == 6.0\nIF density == 0.9994 THEN quality == 6.0\nIF density == 0.9995 THEN quality == 6.0\nIF density == 0.9996 THEN quality == 6.0\nIF density == 0.99965 THEN quality == 7.0\nIF density == 0.9997 THEN quality == 5.0\nIF density == 0.99974 THEN quality == 6.0\nIF density == 0.99975 THEN quality == 5.0\nIF density == 0.99976 THEN quality == 5.0\nIF density == 0.9998 THEN quality == 5.0\nIF density == 1.0 THEN quality == 6.0\nIF density == 1.00005 THEN quality == 7.0\nIF density == 1.0001 THEN quality == 5.0\nIF density == 1.0001200000000001 THEN quality == 6.0\nIF density == 1.00015 THEN quality == 5.0\nIF density == 1.0002 THEN quality == 6.0\nIF density == 1.00024 THEN quality == 5.0\nIF density == 1.00025 THEN quality == 4.0\nIF density == 1.0003 THEN quality == 6.0\nIF density == 1.0004 THEN quality == 5.0\nIF density == 1.0006 THEN quality == 5.0\nIF density == 1.0008 THEN quality == 3.0\nIF density == 1.001 THEN quality == 5.0\nIF density == 1.0014 THEN quality == 6.0\nIF density == 1.0015 THEN quality == 6.0\nIF density == 1.0018 THEN quality == 5.0\nIF density == 1.0021 THEN quality == 6.0\nIF density == 1.0022 THEN quality == 7.0\nIF density == 1.00242 THEN quality == 5.0\nIF density == 1.0026 THEN quality == 5.0\nIF density == 1.00289 THEN quality == 5.0\nIF density == 1.00315 THEN quality == 5.0\nIF density == 1.0032 THEN quality == 7.0\nIF density == 1.00369 THEN quality == 6.0\n"
     ]
    },
    {
     "output_type": "execute_result",
     "data": {
      "text/plain": [
       "'numCorrectPredictions = 0\\nnumWrongPredictions = 0\\nfor i,fold in enumerate(X_test):\\n    for index in range(len(fold)):\\n        mpg_values = [predicted_values[i][index], y_test[i][index]] #predicted/actual\\n        #print(mpg_values)\\n        #Decide rankings for predicted/actual values\\n        mpg_values = myutils.determine_MPG_rankings(mpg_values)\\n        #print(mpg_values)\\n        if(mpg_values[0]==mpg_values[1]):\\n            numCorrectPredictions = numCorrectPredictions+1\\n        else:\\n            numWrongPredictions = numWrongPredictions+1\\n\\naccuracy = np.round((numCorrectPredictions)/(numCorrectPredictions+numWrongPredictions),3)\\nerror_rate = np.round((numWrongPredictions)/(numCorrectPredictions+numWrongPredictions),3)\\n\\nprint(\"Decision Tree: accuracy = {}, error rate = {}\".format(accuracy,error_rate))'"
      ]
     },
     "metadata": {},
     "execution_count": 5
    }
   ],
   "source": [
    "importlib.reload(mysklearn.mypytable)\n",
    "importlib.reload(mysklearn.myevaluation)\n",
    "import numpy as np\n",
    "\n",
    "# Get data from csv file\n",
    "table = MyPyTable().load_from_file(os.path.join(\"input_files\",\"winequality-red.csv\"))\n",
    "y_col = table.get_column(\"quality\", False)\n",
    "x_cols = table.drop_col(\"quality\")\n",
    "\n",
    "# TODO: NEED TO CHANGE X-COLS TO CATEGORICAL ATTRIBUTES\n",
    "\n",
    "# Use Decision Tree to classify\n",
    "testcase = MyDecisionTreeClassifier()\n",
    "\n",
    "#Returns x INDEXES\n",
    "X_train, X_test = myevaluation.stratified_kfold_cross_validation(x_cols,y_col,n_splits=10)\n",
    "X_train, X_test, y_train, y_test = myutils.getInstances(X_train, X_test, x_cols,y_col)\n",
    "\n",
    "predicted_values = []\n",
    "for i,fold in enumerate(X_train):\n",
    "    #train,test = myutils.normalize_values(X_train[i],X_test[i])\n",
    "    train = X_train[i]\n",
    "    test = X_test[i]\n",
    "    testcase.fit(train,y_train[i])\n",
    "    predicted_values.append(testcase.predict(test))\n",
    "\n",
    "print(predicted_values)\n",
    "\n",
    "#testcase.print_decision_rules(table.column_names[:-1],\"quality\")\n",
    "\n",
    "'''numCorrectPredictions = 0\n",
    "numWrongPredictions = 0\n",
    "for i,fold in enumerate(X_test):\n",
    "    for index in range(len(fold)):\n",
    "        mpg_values = [predicted_values[i][index], y_test[i][index]] #predicted/actual\n",
    "        #print(mpg_values)\n",
    "        #Decide rankings for predicted/actual values\n",
    "        mpg_values = myutils.determine_MPG_rankings(mpg_values)\n",
    "        #print(mpg_values)\n",
    "        if(mpg_values[0]==mpg_values[1]):\n",
    "            numCorrectPredictions = numCorrectPredictions+1\n",
    "        else:\n",
    "            numWrongPredictions = numWrongPredictions+1\n",
    "\n",
    "accuracy = np.round((numCorrectPredictions)/(numCorrectPredictions+numWrongPredictions),3)\n",
    "error_rate = np.round((numWrongPredictions)/(numCorrectPredictions+numWrongPredictions),3)\n",
    "\n",
    "print(\"Decision Tree: accuracy = {}, error rate = {}\".format(accuracy,error_rate))'''"
   ]
  }
 ]
}